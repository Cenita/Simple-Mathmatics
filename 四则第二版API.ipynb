{
 "cells": [
  {
   "cell_type": "code",
   "execution_count": 21,
   "metadata": {},
   "outputs": [],
   "source": [
    "import cv2\n",
    "import matplotlib.pyplot as plt\n",
    "import os\n",
    "import paddle as paddle\n",
    "import paddle.fluid as fluid\n",
    "import PIL.Image as Image\n",
    "import random\n",
    "import numpy as np\n",
    "import time\n",
    "from htgCrap import htgCrap\n",
    "from werkzeug.utils import secure_filename\n",
    "from flask import Flask, request\n",
    "from flask_cors import CORS\n",
    "import uuid\n",
    "import json"
   ]
  },
  {
   "cell_type": "code",
   "execution_count": 22,
   "metadata": {},
   "outputs": [],
   "source": [
    "def load_model(model_id):\n",
    "    model_net_path = 'models/infer_model/'+str(model_id)+'/'\n",
    "    place = fluid.CPUPlace()\n",
    "    exe = fluid.Executor(place)\n",
    "    [infer_program, feeded_var_names, target_var] = fluid.io.load_inference_model(dirname=model_net_path, executor=exe)\n",
    "    return exe, infer_program , feeded_var_names , target_var\n",
    "\n",
    "def model_infer(image,*args):\n",
    "    exe, infer_program , feeded_var_names , target_var = args[0]\n",
    "    image = np.array(image).reshape(-1,1,64,64).astype('float32')\n",
    "    image = (image) /255.0\n",
    "    result = exe.run(program = infer_program,\n",
    "                    feed = {feeded_var_names[0]:image},\n",
    "                     fetch_list = target_var\n",
    "                    )\n",
    "    return result"
   ]
  },
  {
   "cell_type": "code",
   "execution_count": 23,
   "metadata": {},
   "outputs": [],
   "source": [
    "app = Flask(__name__)\n",
    "CORS(app)\n",
    "args = load_model(36)"
   ]
  },
  {
   "cell_type": "code",
   "execution_count": 24,
   "metadata": {},
   "outputs": [],
   "source": [
    "def inferImage(image_path):\n",
    "    itg = htgCrap(image_path)\n",
    "    FL = itg.crapNumber(64)\n",
    "    formula_list = []\n",
    "    for fl in FL:\n",
    "        result = model_infer(fl,args)\n",
    "        re_str = \"\"\n",
    "        math_map = ['0','1','2','3','4','5','6','7','8','9','^','+','-','*','/',')','(','=','Z','a','y']\n",
    "        for i in result[0]:\n",
    "            re = np.argmax(i)\n",
    "            if re == 18:\n",
    "                continue\n",
    "            re_str+=math_map[re]\n",
    "        formula_list.append(re_str)\n",
    "    return formula_list"
   ]
  },
  {
   "cell_type": "code",
   "execution_count": 25,
   "metadata": {},
   "outputs": [],
   "source": [
    "@app.route('/infer', methods=['POST'])\n",
    "def infer():\n",
    "    f = request.files['img1']\n",
    "    # 保存图片\n",
    "    save_father_path = 'images'\n",
    "    img_path = os.path.join(save_father_path, str(uuid.uuid1()) + '.' + secure_filename(f.filename).split('.')[-1])\n",
    "    if not os.path.exists(save_father_path):\n",
    "        os.makedirs(save_father_path)\n",
    "    f.save(img_path)\n",
    "    r = inferImage(img_path)\n",
    "    os.remove(img_path)\n",
    "    r = json.dumps(r)\n",
    "    r = '{\"result\": '+str(r)+'}'\n",
    "    return r"
   ]
  },
  {
   "cell_type": "code",
   "execution_count": 26,
   "metadata": {
    "scrolled": true
   },
   "outputs": [
    {
     "name": "stdout",
     "output_type": "stream",
     "text": [
      " * Serving Flask app \"__main__\" (lazy loading)\n",
      " * Environment: production\n",
      "   WARNING: Do not use the development server in a production environment.\n",
      "   Use a production WSGI server instead.\n",
      " * Debug mode: off\n"
     ]
    }
   ],
   "source": [
    "ip1 = '127.0.0.1'\n",
    "ip2 = '172.16.7.238'\n",
    "if __name__ == '__main__':\n",
    "    # 启动服务，并指定端口号\n",
    "    app.run(host = str(ip2),port=870)"
   ]
  },
  {
   "cell_type": "code",
   "execution_count": null,
   "metadata": {},
   "outputs": [],
   "source": []
  }
 ],
 "metadata": {
  "kernelspec": {
   "display_name": "Python 3",
   "language": "python",
   "name": "python3"
  },
  "language_info": {
   "codemirror_mode": {
    "name": "ipython",
    "version": 3
   },
   "file_extension": ".py",
   "mimetype": "text/x-python",
   "name": "python",
   "nbconvert_exporter": "python",
   "pygments_lexer": "ipython3",
   "version": "3.6.5"
  }
 },
 "nbformat": 4,
 "nbformat_minor": 2
}
