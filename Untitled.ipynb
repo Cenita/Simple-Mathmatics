{
 "cells": [
  {
   "cell_type": "code",
   "execution_count": 13,
   "metadata": {},
   "outputs": [],
   "source": [
    "import queue\n",
    "from PIL import Image\n",
    "from htgCrap import htgCrap\n",
    "import cv2\n",
    "import matplotlib.pyplot as plt\n",
    "import numpy as np"
   ]
  },
  {
   "cell_type": "code",
   "execution_count": 15,
   "metadata": {},
   "outputs": [],
   "source": [
    "image = cv2.imread('1.jpg')\n",
    "htg = htgCrap(image)\n",
    "erzhi = htg.crapFormula()"
   ]
  },
  {
   "cell_type": "code",
   "execution_count": 21,
   "metadata": {},
   "outputs": [
    {
     "name": "stdout",
     "output_type": "stream",
     "text": [
      "(1, 216, 3447)\n"
     ]
    },
    {
     "data": {
      "text/plain": [
       "<matplotlib.image.AxesImage at 0x1cf0ef5f710>"
      ]
     },
     "execution_count": 21,
     "metadata": {},
     "output_type": "execute_result"
    },
    {
     "data": {
      "image/png": "[encoded data removed]",
      "text/plain": [
       "<Figure size 432x288 with 1 Axes>"
      ]
     },
     "metadata": {
      "needs_background": "light"
     },
     "output_type": "display_data"
    }
   ],
   "source": [
    "print(np.array(erzhi).shape)\n",
    "img = np.array(erzhi).reshape(216,3447)\n",
    "plt.imshow(img,'Greys')"
   ]
  },
  {
   "cell_type": "code",
   "execution_count": 31,
   "metadata": {},
   "outputs": [],
   "source": [
    "def cfs(img):\n",
    "    \"\"\"传入二值化后的图片进行连通域分割\"\"\"\n",
    "    pixdata = img.load()\n",
    "    w,h = img.size\n",
    "    visited = set()\n",
    "    q = queue.Queue()\n",
    "    offset = [(-1,-1),(0,-1),(1,-1),(-1,0),(1,0),(-1,1),(0,1),(1,1)]\n",
    "    cuts = []\n",
    "    for x in range(w):\n",
    "        for y in range(h):\n",
    "            x_axis = []\n",
    "            #y_axis = []\n",
    "            if pixdata[x,y] == 0 and (x,y) not in visited:\n",
    "                q.put((x,y))\n",
    "                visited.add((x,y))\n",
    "            while not q.empty():\n",
    "                x_p,y_p = q.get()\n",
    "                for x_offset,y_offset in offset:\n",
    "                    x_c,y_c = x_p+x_offset,y_p+y_offset\n",
    "                    if (x_c,y_c) in visited:\n",
    "                        continue\n",
    "                    visited.add((x_c,y_c))\n",
    "                    try:\n",
    "                        if pixdata[x_c,y_c] == 0:\n",
    "                            q.put((x_c,y_c))\n",
    "                            x_axis.append(x_c)\n",
    "                            #y_axis.append(y_c)\n",
    "                    except:\n",
    "                        pass\n",
    "            if x_axis:\n",
    "                min_x,max_x = min(x_axis),max(x_axis)\n",
    "                if max_x - min_x >  3:\n",
    "                    # 宽度小于3的认为是噪点，根据需要修改\n",
    "                    cuts.append((min_x,max_x + 1))\n",
    "    return cuts\n",
    " \n",
    "def saveSmall(img, outDir, cuts):\n",
    "    w, h = img.size\n",
    "    pixdata = img.load()\n",
    "    for i, item in enumerate(cuts):\n",
    "        box = (item[0], 0, item[1], h)\n",
    "        img.crop(box).save(outDir + str(i) + \".png\")\n",
    "img = Image.open('24.png')\n",
    "saveSmall(img, 'cfs/', cfs(img))"
   ]
  },
  {
   "cell_type": "code",
   "execution_count": 38,
   "metadata": {},
   "outputs": [],
   "source": [
    "def vertical(img):\n",
    "    \"\"\"传入二值化后的图片进行垂直投影\"\"\"\n",
    "    pixdata = img.load()\n",
    "    w,h = img.size\n",
    "    ver_list = []\n",
    "    # 开始投影\n",
    "    for x in range(w):\n",
    "        black = 0\n",
    "        for y in range(h):\n",
    "            if pixdata[x,y] == 0:\n",
    "                black += 1\n",
    "        ver_list.append(black)\n",
    "    # 判断边界\n",
    "    l,r = 0,0\n",
    "    flag = False\n",
    "    cuts = []\n",
    "    for i,count in enumerate(ver_list):\n",
    "        # 阈值这里为0\n",
    "        if flag is False and count > 20:\n",
    "            l = i\n",
    "            flag = True\n",
    "        if flag and count == 0:\n",
    "            r = i-1\n",
    "            flag = False\n",
    "            cuts.append((l,r))\n",
    "    return cuts\n",
    "\n",
    "p = Image.open('24.png')\n",
    "v = vertical(p)\n",
    "saveSmall(p,'cfs/',vertical(p))"
   ]
  },
  {
   "cell_type": "code",
   "execution_count": null,
   "metadata": {},
   "outputs": [],
   "source": []
  }
 ],
 "metadata": {
  "kernelspec": {
   "display_name": "Python 3",
   "language": "python",
   "name": "python3"
  },
  "language_info": {
   "codemirror_mode": {
    "name": "ipython",
    "version": 3
   },
   "file_extension": ".py",
   "mimetype": "text/x-python",
   "name": "python",
   "nbconvert_exporter": "python",
   "pygments_lexer": "ipython3",
   "version": "3.6.5"
  }
 },
 "nbformat": 4,
 "nbformat_minor": 2
}
