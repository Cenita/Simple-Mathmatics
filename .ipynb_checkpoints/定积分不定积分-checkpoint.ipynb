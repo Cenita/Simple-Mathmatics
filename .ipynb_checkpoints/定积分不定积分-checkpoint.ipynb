{
 "cells": [
  {
   "cell_type": "code",
   "execution_count": 54,
   "metadata": {},
   "outputs": [
    {
     "name": "stdout",
     "output_type": "stream",
     "text": [
      "# 0.9999188\n",
      "0 0.9999534\n",
      "1 0.9975725\n",
      "- 0.9999901\n",
      "6 0.9994413\n",
      "3 0.99993706\n",
      "* 0.99943656\n",
      "3 0.9624535\n",
      "- 0.99999857\n",
      "5 0.96571743\n",
      "* 0.9999975\n",
      "+ 0.999984\n",
      "- 0.5258267\n",
      "2 0.9998099\n",
      "d 0.9998716\n",
      "* 0.99999964\n",
      "- 0.99999034\n",
      "- 0.9999989\n",
      "['#', [['1', [], [], [], [365, 104, 29, 109]]], [], [['0', [], [], [], [323, 350, 51, 82]]], [190, 121, 131, 320]]\n",
      "['-', [['3', [], [], [], [510, 51, 53, 127]]], [], [['6', [], [], [], [507, 264, 51, 148]]], [468, 223, 143, 26]]\n",
      "['*', [['3', [], [], [], [748, 72, 38, 118]]], [], [], [630, 161, 90, 181]]\n",
      "['-', [], [], [], [807, 225, 87, 25]]\n",
      "['5', [], [], [], [913, 123, 116, 197]]\n",
      "['*', [], [], [], [1057, 156, 95, 169]]\n",
      "['+', [], [], [], [1214, 164, 89, 147]]\n",
      "['-', [], [], [], [1340, 180, 22, 16]]\n",
      "['2', [], [], [], [1360, 152, 89, 146]]\n",
      "['d', [], [], [], [1474, 43, 145, 279]]\n",
      "['*', [], [], [], [1644, 112, 136, 216]]\n",
      "['-', [], [], [['-', [], [], [], [1851, 204, 92, 24]]], [1831, 164, 120, 31]]\n",
      "#^(1)~(0)((3)/(6))x^(3)-5x+-2dx=\n"
     ]
    }
   ],
   "source": [
    "import inferProgram\n",
    "import sympy\n",
    "import re\n",
    "result = inferProgram.Integral(150).infer_image('test_image/组委会手写数据集/新建文件夹/定积分12.jpg')[1]\n",
    "print(result)"
   ]
  },
  {
   "cell_type": "code",
   "execution_count": 26,
   "metadata": {},
   "outputs": [],
   "source": [
    "x = sympy.Symbol('x')"
   ]
  },
  {
   "cell_type": "code",
   "execution_count": 65,
   "metadata": {},
   "outputs": [
    {
     "ename": "AttributeError",
     "evalue": "'_sre.SRE_Match' object has no attribute 'lenght'",
     "output_type": "error",
     "traceback": [
      "\u001b[1;31m---------------------------------------------------------------------------\u001b[0m",
      "\u001b[1;31mAttributeError\u001b[0m                            Traceback (most recent call last)",
      "\u001b[1;32m<ipython-input-65-bbcbfc05e651>\u001b[0m in \u001b[0;36m<module>\u001b[1;34m\u001b[0m\n\u001b[0;32m      1\u001b[0m \u001b[0mresult\u001b[0m \u001b[1;33m=\u001b[0m \u001b[1;34m'#^(1)~(0)((3)/(6))x^(3)-5x+2dx='\u001b[0m\u001b[1;33m\u001b[0m\u001b[0m\n\u001b[0;32m      2\u001b[0m \u001b[0mobj\u001b[0m \u001b[1;33m=\u001b[0m \u001b[0mre\u001b[0m\u001b[1;33m.\u001b[0m\u001b[0msearch\u001b[0m\u001b[1;33m(\u001b[0m\u001b[1;34mr'#\\^\\((.*?)\\)\\~\\((.*?)\\)(.*)dx'\u001b[0m\u001b[1;33m,\u001b[0m\u001b[0mresult\u001b[0m\u001b[1;33m)\u001b[0m\u001b[1;33m\u001b[0m\u001b[0m\n\u001b[1;32m----> 3\u001b[1;33m \u001b[0mprint\u001b[0m\u001b[1;33m(\u001b[0m\u001b[0mobj\u001b[0m\u001b[1;33m.\u001b[0m\u001b[0mlenght\u001b[0m\u001b[1;33m(\u001b[0m\u001b[1;33m)\u001b[0m\u001b[1;33m)\u001b[0m\u001b[1;33m\u001b[0m\u001b[0m\n\u001b[0m\u001b[0;32m      4\u001b[0m \u001b[0mprint\u001b[0m\u001b[1;33m(\u001b[0m\u001b[0mobj\u001b[0m\u001b[1;33m.\u001b[0m\u001b[0mgroup\u001b[0m\u001b[1;33m(\u001b[0m\u001b[1;36m1\u001b[0m\u001b[1;33m)\u001b[0m\u001b[1;33m)\u001b[0m\u001b[1;33m\u001b[0m\u001b[0m\n\u001b[0;32m      5\u001b[0m \u001b[0mprint\u001b[0m\u001b[1;33m(\u001b[0m\u001b[0mobj\u001b[0m\u001b[1;33m.\u001b[0m\u001b[0mgroup\u001b[0m\u001b[1;33m(\u001b[0m\u001b[1;36m2\u001b[0m\u001b[1;33m)\u001b[0m\u001b[1;33m)\u001b[0m\u001b[1;33m\u001b[0m\u001b[0m\n",
      "\u001b[1;31mAttributeError\u001b[0m: '_sre.SRE_Match' object has no attribute 'lenght'"
     ]
    }
   ],
   "source": [
    "result = '#^(1)~(0)((3)/(6))x^(3)-5x+2dx='\n",
    "obj = re.search(r'#\\^\\((.*?)\\)\\~\\((.*?)\\)(.*)dx',result)\n",
    "print(obj.group(1))\n",
    "print(obj.group(2))\n",
    "print(obj.group(3))"
   ]
  },
  {
   "cell_type": "code",
   "execution_count": 18,
   "metadata": {},
   "outputs": [],
   "source": [
    "y = inferProgram.ToolBar.getDerivative().tranfromText(result[1])\n",
    "y = y.replace('#','').replace('dx=','').replace('dx','').replace('e','sympy.E')"
   ]
  },
  {
   "cell_type": "code",
   "execution_count": 11,
   "metadata": {},
   "outputs": [],
   "source": [
    "result = sympy.integrate(y,x)"
   ]
  },
  {
   "cell_type": "code",
   "execution_count": 10,
   "metadata": {},
   "outputs": [
    {
     "data": {
      "text/plain": [
       "'2*e^(x) + 3*ln(x)'"
      ]
     },
     "execution_count": 10,
     "metadata": {},
     "output_type": "execute_result"
    }
   ],
   "source": [
    "str(sympy.simplify(result)).replace('**','^').replace('exp','e^').replace('log','ln')"
   ]
  },
  {
   "cell_type": "code",
   "execution_count": null,
   "metadata": {},
   "outputs": [],
   "source": []
  }
 ],
 "metadata": {
  "kernelspec": {
   "display_name": "Python 3",
   "language": "python",
   "name": "python3"
  },
  "language_info": {
   "codemirror_mode": {
    "name": "ipython",
    "version": 3
   },
   "file_extension": ".py",
   "mimetype": "text/x-python",
   "name": "python",
   "nbconvert_exporter": "python",
   "pygments_lexer": "ipython3",
   "version": "3.6.5"
  }
 },
 "nbformat": 4,
 "nbformat_minor": 2
}
