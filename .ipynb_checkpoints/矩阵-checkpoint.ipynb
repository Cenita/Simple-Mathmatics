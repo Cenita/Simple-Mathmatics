{
 "cells": [
  {
   "cell_type": "code",
   "execution_count": 16,
   "metadata": {},
   "outputs": [
    {
     "name": "stdout",
     "output_type": "stream",
     "text": [
      "( 0.9228296\n",
      "3 0.9995565\n",
      "1 0.9998344\n",
      "3 0.9908337\n",
      "3 0.99958974\n",
      "2 0.9999558\n",
      "2 0.9999988\n",
      "2 0.99999166\n",
      "3 0.99213445\n",
      "1 0.9994399\n",
      ") 0.9905093\n",
      "* 1.0\n",
      "( 0.69724053\n",
      "3 0.9977736\n",
      "2 0.999992\n",
      "1 0.99991953\n",
      "2 0.9999943\n",
      "2 0.99999964\n",
      "2 0.9999933\n",
      "4 0.9990381\n",
      "3 0.97841495\n",
      "1 0.9992638\n",
      ") 0.9997148\n",
      "- 1.0\n",
      "( 0.9596237\n",
      "1 0.9979505\n",
      "1 0.9954768\n",
      "1 0.99943346\n",
      "2 0.99999607\n",
      "1 0.99698716\n",
      "3 0.9993748\n",
      "2 0.9999987\n",
      "1 0.99914193\n",
      "1 0.95844144\n",
      ") 0.9997731\n",
      "['[', [], [], [], [79, 119, 120, 419]]\n",
      "[[['3', '2', '1'], ['1', '2', '3'], ['3', '3', '2']], [], [], [], [632, 85, 73, 435]]\n",
      "[']', [], [], [], [632, 85, 73, 435]]\n",
      "['*', [], [], [], [773, 274, 68, 89]]\n",
      "['[', [], [], [], [860, 132, 116, 409]]\n",
      "[[['1', '2', '3'], ['2', '2', '4'], ['3', '2', '1']], [], [], [], [1451, 117, 55, 382]]\n",
      "[']', [], [], [], [1451, 117, 55, 382]]\n",
      "['-', [], [], [], [1578, 264, 69, 12]]\n",
      "['[', [], [], [], [1693, 132, 80, 345]]\n",
      "[[['1', '2', '1'], ['1', '1', '2'], ['1', '3', '1']], [], [], [], [2169, 50, 67, 486]]\n",
      "[']', [], [], [], [2169, 50, 67, 486]]\n",
      "[[3, 2, 1], [1, 2, 3], [3, 3, 2]]*[[1, 2, 3], [2, 2, 4], [3, 2, 1]]-[[1, 2, 1], [1, 1, 2], [1, 3, 1]]\n"
     ]
    }
   ],
   "source": [
    "import inferProgram\n",
    "import numpy as np\n",
    "result = inferProgram.Martix(37).infer_image('test_image/cs/6.jpg')[1]\n",
    "print(result)"
   ]
  },
  {
   "cell_type": "code",
   "execution_count": 17,
   "metadata": {},
   "outputs": [],
   "source": [
    "result = str(result).replace('[[','np.array([[').replace(']]',']])')"
   ]
  },
  {
   "cell_type": "code",
   "execution_count": 18,
   "metadata": {},
   "outputs": [
    {
     "data": {
      "text/plain": [
       "array([[ 2,  2,  2],\n",
       "       [ 1,  3, 10],\n",
       "       [ 8,  3,  1]])"
      ]
     },
     "execution_count": 18,
     "metadata": {},
     "output_type": "execute_result"
    }
   ],
   "source": [
    "eval(result)"
   ]
  },
  {
   "cell_type": "code",
   "execution_count": 19,
   "metadata": {},
   "outputs": [],
   "source": [
    "result = str(eval(result)).replace('],','] ').replace(',','').replace('[ ','[')"
   ]
  },
  {
   "cell_type": "code",
   "execution_count": 20,
   "metadata": {},
   "outputs": [
    {
     "name": "stdout",
     "output_type": "stream",
     "text": [
      "[[ 2  2  2]\n",
      " [ 1  3 10]\n",
      " [ 8  3  1]]\n"
     ]
    }
   ],
   "source": [
    "print(result)"
   ]
  },
  {
   "cell_type": "code",
   "execution_count": 75,
   "metadata": {},
   "outputs": [
    {
     "data": {
      "text/plain": [
       "'-3/8'"
      ]
     },
     "execution_count": 75,
     "metadata": {},
     "output_type": "execute_result"
    }
   ],
   "source": []
  },
  {
   "cell_type": "code",
   "execution_count": null,
   "metadata": {},
   "outputs": [],
   "source": []
  }
 ],
 "metadata": {
  "kernelspec": {
   "display_name": "Python 3",
   "language": "python",
   "name": "python3"
  },
  "language_info": {
   "codemirror_mode": {
    "name": "ipython",
    "version": 3
   },
   "file_extension": ".py",
   "mimetype": "text/x-python",
   "name": "python",
   "nbconvert_exporter": "python",
   "pygments_lexer": "ipython3",
   "version": "3.6.5"
  }
 },
 "nbformat": 4,
 "nbformat_minor": 2
}
