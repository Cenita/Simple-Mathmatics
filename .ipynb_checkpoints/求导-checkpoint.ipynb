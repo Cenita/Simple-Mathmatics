{
 "cells": [
  {
   "cell_type": "code",
   "execution_count": 2,
   "metadata": {},
   "outputs": [
    {
     "name": "stdout",
     "output_type": "stream",
     "text": [
      "y 0.9999969\n",
      "- 0.99996996\n",
      "- 0.9999758\n",
      "( 0.999974\n",
      "2 0.99976534\n",
      "* 0.9825654\n",
      "2 0.99954176\n",
      "- 0.99998105\n",
      "3 0.99999297\n",
      ") 0.99986255\n",
      "( 0.99993443\n",
      "* 0.99964726\n",
      "2 0.99980444\n",
      "- 0.99999547\n",
      "4 0.99978286\n",
      ") 0.9987054\n",
      "['y', [], [], [], [115, 2, 81, 181]]\n",
      "['-', [], [], [['-', [], [], [], [251, 90, 79, 17]]], [250, 51, 69, 20]]\n",
      "['(', [], [], [], [443, 27, 47, 151]]\n",
      "['2', [], [], [], [562, 55, 61, 76]]\n",
      "['*', [['2', [], [], [], [796, 5, 31, 44]]], [], [], [665, 45, 91, 107]]\n",
      "['-', [], [], [], [852, 87, 77, 19]]\n",
      "['3', [], [], [], [956, 44, 87, 112]]\n",
      "[')', [], [], [], [1071, 25, 104, 209]]\n",
      "['(', [], [], [], [1295, 34, 36, 152]]\n",
      "['*', [['2', [], [], [], [1508, 20, 36, 47]]], [], [], [1373, 56, 95, 107]]\n",
      "['-', [], [], [], [1610, 93, 61, 13]]\n",
      "['4', [], [], [], [1742, 36, 104, 129]]\n",
      "[')', [], [], [], [1860, 29, 93, 175]]\n"
     ]
    }
   ],
   "source": [
    "from sympy import *\n",
    "import inferProgram\n",
    "aaa = inferProgram.Unk(65)\n",
    "result = aaa.infer_image('test_image/组委会手写数据集/新建文件夹/求导15.jpg')[1][0]"
   ]
  },
  {
   "cell_type": "code",
   "execution_count": 4,
   "metadata": {},
   "outputs": [],
   "source": [
    "def tranfromText(re):\n",
    "    texta = str(re)\n",
    "    texta = texta.replace(')(',')*(').replace(')x',')*x')\n",
    "    for i in range(10):\n",
    "        texta = texta.replace(str(i)+'x',str(i)+'*x')\n",
    "    texta = texta.replace('^','**')\n",
    "    return texta"
   ]
  },
  {
   "cell_type": "code",
   "execution_count": 9,
   "metadata": {},
   "outputs": [],
   "source": [
    "result = tranfromText(result)"
   ]
  },
  {
   "cell_type": "code",
   "execution_count": 10,
   "metadata": {},
   "outputs": [],
   "source": [
    "x = symbols(\"x\")"
   ]
  },
  {
   "cell_type": "code",
   "execution_count": 11,
   "metadata": {},
   "outputs": [
    {
     "ename": "SyntaxError",
     "evalue": "invalid syntax (<string>, line 1)",
     "output_type": "error",
     "traceback": [
      "Traceback \u001b[1;36m(most recent call last)\u001b[0m:\n",
      "  File \u001b[0;32m\"d:\\python3.6\\lib\\site-packages\\IPython\\core\\interactiveshell.py\"\u001b[0m, line \u001b[0;32m3291\u001b[0m, in \u001b[0;35mrun_code\u001b[0m\n    exec(code_obj, self.user_global_ns, self.user_ns)\n",
      "\u001b[1;36m  File \u001b[1;32m\"<ipython-input-11-6bd0225990a8>\"\u001b[1;36m, line \u001b[1;32m1\u001b[1;36m, in \u001b[1;35m<module>\u001b[1;36m\u001b[0m\n\u001b[1;33m    y = eval(result)\u001b[0m\n",
      "\u001b[1;36m  File \u001b[1;32m\"<string>\"\u001b[1;36m, line \u001b[1;32m1\u001b[0m\n\u001b[1;33m    y=(2*x**(2)-3)*(x**(2)-4)\u001b[0m\n\u001b[1;37m     ^\u001b[0m\n\u001b[1;31mSyntaxError\u001b[0m\u001b[1;31m:\u001b[0m invalid syntax\n"
     ]
    }
   ],
   "source": [
    "y = eval(result)"
   ]
  },
  {
   "cell_type": "code",
   "execution_count": 8,
   "metadata": {},
   "outputs": [
    {
     "ename": "NameError",
     "evalue": "name 'y' is not defined",
     "output_type": "error",
     "traceback": [
      "\u001b[1;31m---------------------------------------------------------------------------\u001b[0m",
      "\u001b[1;31mNameError\u001b[0m                                 Traceback (most recent call last)",
      "\u001b[1;32m<ipython-input-8-a8d4810269ee>\u001b[0m in \u001b[0;36m<module>\u001b[1;34m\u001b[0m\n\u001b[1;32m----> 1\u001b[1;33m \u001b[0mdify\u001b[0m \u001b[1;33m=\u001b[0m \u001b[0mdiff\u001b[0m\u001b[1;33m(\u001b[0m\u001b[0my\u001b[0m\u001b[1;33m,\u001b[0m\u001b[0mx\u001b[0m\u001b[1;33m)\u001b[0m\u001b[1;33m\u001b[0m\u001b[0m\n\u001b[0m",
      "\u001b[1;31mNameError\u001b[0m: name 'y' is not defined"
     ]
    }
   ],
   "source": [
    "dify = diff(y,x)"
   ]
  },
  {
   "cell_type": "code",
   "execution_count": 45,
   "metadata": {},
   "outputs": [
    {
     "name": "stdout",
     "output_type": "stream",
     "text": [
      "0\n"
     ]
    }
   ],
   "source": [
    "print(str(simplify(dify)).replace('**','^'))"
   ]
  },
  {
   "cell_type": "code",
   "execution_count": null,
   "metadata": {},
   "outputs": [],
   "source": []
  }
 ],
 "metadata": {
  "kernelspec": {
   "display_name": "Python 3",
   "language": "python",
   "name": "python3"
  },
  "language_info": {
   "codemirror_mode": {
    "name": "ipython",
    "version": 3
   },
   "file_extension": ".py",
   "mimetype": "text/x-python",
   "name": "python",
   "nbconvert_exporter": "python",
   "pygments_lexer": "ipython3",
   "version": "3.6.5"
  }
 },
 "nbformat": 4,
 "nbformat_minor": 2
}
