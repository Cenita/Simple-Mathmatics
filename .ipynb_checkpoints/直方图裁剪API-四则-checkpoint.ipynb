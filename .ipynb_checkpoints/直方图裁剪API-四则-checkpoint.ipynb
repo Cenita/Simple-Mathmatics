{
 "cells": [
  {
   "cell_type": "code",
   "execution_count": 40,
   "metadata": {},
   "outputs": [],
   "source": [
    "import cv2\n",
    "import numpy as np\n",
    "import matplotlib.pyplot as plt\n",
    "from PIL import Image\n",
    "class htgCrap:\n",
    "    def __init__(self,read_image_path):\n",
    "        self.GreysIMG = cv2.cvtColor(read_image_path,cv2.COLOR_BGR2GRAY)\n",
    "        \n",
    "    def binayIMG(self,L):\n",
    "        def calcGrayHist(I):\n",
    "            # 计算灰度直方图\n",
    "            h, w = I.shape[:2]\n",
    "            I = np.array(Image.fromarray(I).resize((128,int(128*(h/w)))))\n",
    "            h, w = I.shape[:2]\n",
    "            grayHist = np.zeros([256], np.uint64)\n",
    "            theHightPoint = [0,0]#1.直方图纵坐标，2.直方图横坐标\n",
    "            for i in range(h):\n",
    "                for j in range(w):\n",
    "                    grayHist[I[i][j]] += 1\n",
    "                    if grayHist[I[i][j]] > theHightPoint[0]:\n",
    "                        theHightPoint[1] = I[i][j]\n",
    "                        theHightPoint[0] = grayHist[I[i][j]]\n",
    "            theLowPoint = theHightPoint[1]\n",
    "            gradientNumber = 0\n",
    "            for i in range(1,int(theHightPoint[1]/2)):\n",
    "                index = theHightPoint[1]-i*2\n",
    "                newGradient = grayHist[theHightPoint[1]]-grayHist[index]\n",
    "                if newGradient > gradientNumber  and grayHist[index]< 5:\n",
    "                    theLowPoint = index\n",
    "                    gradientNumber = newGradient\n",
    "                    break\n",
    "            return theLowPoint\n",
    "        theLowColorPoint = calcGrayHist(L)\n",
    "        GrayImage = np.array(L)\n",
    "        _,thresh1=cv2.threshold(GrayImage,theLowColorPoint-int(theLowColorPoint/7),255,cv2.THRESH_BINARY)\n",
    "        #中值滤波\n",
    "        thresh1 = cv2.medianBlur(thresh1,5)\n",
    "        return thresh1\n",
    "    \n",
    "    def crapFormula(self):#切割表达式\n",
    "        self.BCIMG = self.binayIMG(self.GreysIMG)\n",
    "        def calcHorizenFormula(I):\n",
    "            h, w = I.shape[:2]\n",
    "            I = cv2.bitwise_not(I)\n",
    "            grayHist = np.zeros([w], np.uint64)\n",
    "            grayHist = np.sum(I,axis=1)\n",
    "            for i in range(h):\n",
    "                grayHist[i] = grayHist[i]/255\n",
    "            total = 0\n",
    "            total_num = 0\n",
    "            for i in range(h):\n",
    "                if grayHist[i] > 0:\n",
    "                    total_num+=1\n",
    "                    total += grayHist[i]\n",
    "            total /= total_num\n",
    "            total /= 5\n",
    "            x = np.arange(h)\n",
    "            startLowPoint = 0\n",
    "            endLowPoint = 0\n",
    "            startTraceFlag = False\n",
    "            endTraceFlag = False\n",
    "            for i in range(h):\n",
    "                upPoint = i\n",
    "                downPoint = h-1-i\n",
    "                if grayHist[upPoint] > total and startTraceFlag == False:\n",
    "                    startTraceFlag = True\n",
    "                    startLowPoint = upPoint\n",
    "                if grayHist[downPoint] > total and endTraceFlag == False:\n",
    "                    endTraceFlag = True\n",
    "                    endLowPoint = downPoint\n",
    "            return max(0,startLowPoint-50),min(endLowPoint+50,h)\n",
    "        stp,dtp = calcHorizenFormula(self.BCIMG)\n",
    "        h,w = self.BCIMG.shape\n",
    "        cimg = self.BCIMG[stp:dtp,0:w]\n",
    "        return cimg"
   ]
  },
  {
   "cell_type": "code",
   "execution_count": 47,
   "metadata": {},
   "outputs": [
    {
     "data": {
      "text/plain": [
       "<matplotlib.image.AxesImage at 0x29e62b87fd0>"
      ]
     },
     "execution_count": 47,
     "metadata": {},
     "output_type": "execute_result"
    },
    {
     "data": {
      "image/png": "[encoded data removed]",
      "text/plain": [
       "<Figure size 432x288 with 1 Axes>"
      ]
     },
     "metadata": {
      "needs_background": "light"
     },
     "output_type": "display_data"
    }
   ],
   "source": [
    "image = np.array(Image.open('test_image/13.jpg'))\n",
    "htg = htgCrap(image)\n",
    "im = htg.crapFormula()\n",
    "plt.imshow(im)"
   ]
  },
  {
   "cell_type": "code",
   "execution_count": null,
   "metadata": {},
   "outputs": [],
   "source": []
  },
  {
   "cell_type": "code",
   "execution_count": 100,
   "metadata": {},
   "outputs": [
    {
     "name": "stdout",
     "output_type": "stream",
     "text": [
      "25\n"
     ]
    },
    {
     "data": {
      "image/png": "[encoded data removed]",
      "text/plain": [
       "<Figure size 432x288 with 25 Axes>"
      ]
     },
     "metadata": {
      "needs_background": "light"
     },
     "output_type": "display_data"
    }
   ],
   "source": []
  },
  {
   "cell_type": "code",
   "execution_count": 101,
   "metadata": {},
   "outputs": [
    {
     "name": "stdout",
     "output_type": "stream",
     "text": [
      "25\n"
     ]
    },
    {
     "data": {
      "image/png": "[encoded data removed]",
      "text/plain": [
       "<Figure size 432x288 with 25 Axes>"
      ]
     },
     "metadata": {
      "needs_background": "light"
     },
     "output_type": "display_data"
    }
   ],
   "source": []
  },
  {
   "cell_type": "code",
   "execution_count": null,
   "metadata": {},
   "outputs": [],
   "source": []
  },
  {
   "cell_type": "code",
   "execution_count": null,
   "metadata": {},
   "outputs": [],
   "source": []
  }
 ],
 "metadata": {
  "kernelspec": {
   "display_name": "Python 3",
   "language": "python",
   "name": "python3"
  },
  "language_info": {
   "codemirror_mode": {
    "name": "ipython",
    "version": 3
   },
   "file_extension": ".py",
   "mimetype": "text/x-python",
   "name": "python",
   "nbconvert_exporter": "python",
   "pygments_lexer": "ipython3",
   "version": "3.6.5"
  }
 },
 "nbformat": 4,
 "nbformat_minor": 2
}
