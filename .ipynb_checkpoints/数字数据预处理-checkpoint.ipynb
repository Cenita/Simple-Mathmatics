{
 "cells": [
  {
   "cell_type": "code",
   "execution_count": 3,
   "metadata": {},
   "outputs": [],
   "source": [
    "import paddle as paddle\n",
    "import paddle.fluid as fluid\n",
    "import numpy as np\n",
    "import matplotlib.pyplot as plt\n",
    "import sys\n",
    "import cv2\n",
    "import os\n",
    "import random\n",
    "import math\n",
    "import PIL.Image as Image\n",
    "from paddle.fluid.initializer import MSRA\n",
    "from paddle.fluid.param_attr import ParamAttr\n",
    "from visualdl import LogWriter"
   ]
  },
  {
   "cell_type": "code",
   "execution_count": 4,
   "metadata": {},
   "outputs": [
    {
     "name": "stdout",
     "output_type": "stream",
     "text": [
      "21\n"
     ]
    }
   ],
   "source": [
    "def produce_path_label(path):\n",
    "    train_list = [[] * 1 for i in range(0,21)]\n",
    "    print(len(train_list))\n",
    "    train_data = open(path).readlines()\n",
    "    for i in train_data:\n",
    "        items = i.split(',')\n",
    "        class_index = int(items[0])\n",
    "        img = np.array(items[1:]).astype('uint8')\n",
    "        train_list[class_index].append([img])\n",
    "    return train_list\n",
    "train_list = produce_path_label('test_list.txt')"
   ]
  },
  {
   "cell_type": "code",
   "execution_count": 256,
   "metadata": {},
   "outputs": [],
   "source": [
    "yuzhi = 16\n",
    "data_shape = [64,64]\n",
    "#定义添加高斯噪声的函数 \n",
    "def addGaussianNoise(image,percetage): \n",
    "    G_Noiseimg = np.array(image)\n",
    "    G_NoiseNum=20\n",
    "    for i in range(G_NoiseNum): \n",
    "        temp_x = np.random.randint(0,image.shape[0])\n",
    "        temp_y = np.random.randint(0,image.shape[0])\n",
    "        temp_x_size = np.random.randint(1,5)\n",
    "        temp_x_end = min(image.shape[0],temp_x+temp_size)\n",
    "        temp_y_end = min(image.shape[0],temp_y+temp_size)\n",
    "        for x in range(temp_x,temp_x_end):\n",
    "            for y in range(temp_y,temp_y_end):\n",
    "                G_Noiseimg[x][y] = 255\n",
    "    return G_Noiseimg\n",
    "def temp_reader(label):\n",
    "    for i in range(1,2):\n",
    "            #img = cv2.resize(img,(data_shape[0],data_shape[1]))\n",
    "            #img = cv2.cvtColor(img,cv2.COLOR_GRAY2BGR)\n",
    "            #img = cv2.cvtColor(img,cv2.COLOR_BGR2GRAY)\n",
    "            #下面是有效代码#######################\n",
    "            if label == 10:#没有10这个数\n",
    "                        continue\n",
    "            tmp_ran = train_list[label]\n",
    "            ran_int = random.randint(0,len(tmp_ran)-1)#取随机的一个数\n",
    "            img = np.array(tmp_ran[ran_int]).reshape(28,28)\n",
    "            r_sofang = random.randint(6,12)/10\n",
    "            shape = int(r_sofang*data_shape[0])\n",
    "            img = Image.fromarray(img).resize((shape,shape))\n",
    "            img = np.array(img)\n",
    "            _, img = cv2.threshold(img, 10, 255,cv2.THRESH_BINARY)\n",
    "            r_x = random.randint(-15,15)\n",
    "            r_y = random.randint(-15,15)\n",
    "            r_rota = random.randint(-10,10)\n",
    "            r_yh = random.randint(1,3)\n",
    "            img = Image.fromarray(img)\n",
    "            img = img.rotate(r_rota)\n",
    "            tmpimg = Image.new('L',(data_shape[0],data_shape[0]))\n",
    "            tmpimg.paste(img,(r_x,r_y))\n",
    "            element1 = cv2.getStructuringElement(cv2.MORPH_RECT, (r_yh, r_yh))\n",
    "            tmpimg = cv2.dilate(np.array(tmpimg), element1, iterations = 1)\n",
    "            if random.randint(0,1)==1:\n",
    "                tmpimg = addGaussianNoise(tmpimg,random.randint(0,100)/1000)\n",
    "            #img = cv2.blur(img,(20,20))#羽化\n",
    "            #ret, binary = cv2.threshold(img, 50, 255,cv2.THRESH_BINARY)\n",
    "            #element1 = cv2.getStructuringElement(cv2.MORPH_RECT, (10,10))#拓展\n",
    "            #img = cv2.erode(binary, element1, iterations = 1)\n",
    "            img = np.array(tmpimg)\n",
    "            ##############################################\n",
    "            img = img.reshape(data_shape[0],data_shape[1]).astype('float32')\n",
    "            plt.figure(label)\n",
    "            plt.imshow(img,'Greys')"
   ]
  },
  {
   "cell_type": "code",
   "execution_count": 279,
   "metadata": {
    "scrolled": false
   },
   "outputs": [
    {
     "data": {
      "image/png": "[encoded data removed]",
      "text/plain": [
       "<Figure size 432x288 with 1 Axes>"
      ]
     },
     "metadata": {
      "needs_background": "light"
     },
     "output_type": "display_data"
    }
   ],
   "source": [
    "temp_reader(9)"
   ]
  },
  {
   "cell_type": "code",
   "execution_count": null,
   "metadata": {},
   "outputs": [],
   "source": []
  },
  {
   "cell_type": "code",
   "execution_count": null,
   "metadata": {},
   "outputs": [],
   "source": []
  }
 ],
 "metadata": {
  "kernelspec": {
   "display_name": "Python 3",
   "language": "python",
   "name": "python3"
  },
  "language_info": {
   "codemirror_mode": {
    "name": "ipython",
    "version": 3
   },
   "file_extension": ".py",
   "mimetype": "text/x-python",
   "name": "python",
   "nbconvert_exporter": "python",
   "pygments_lexer": "ipython3",
   "version": "3.6.5"
  }
 },
 "nbformat": 4,
 "nbformat_minor": 2
}
