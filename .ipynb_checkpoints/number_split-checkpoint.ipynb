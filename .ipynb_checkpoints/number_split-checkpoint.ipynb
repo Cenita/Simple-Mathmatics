{
 "cells": [
  {
   "cell_type": "code",
   "execution_count": 429,
   "metadata": {},
   "outputs": [],
   "source": [
    "import cv2\n",
    "import matplotlib.pyplot as plt\n",
    "import os\n",
    "import paddle as paddle\n",
    "import paddle.fluid as fluid\n",
    "import PIL.Image as Image\n",
    "import random\n",
    "import numpy as np"
   ]
  },
  {
   "cell_type": "code",
   "execution_count": 430,
   "metadata": {},
   "outputs": [],
   "source": [
    "label_text = open('reality_image/label.txt').readlines()\n",
    "label_list = []\n",
    "for i in label_text:\n",
    "    label_path,label=i.split(' ')\n",
    "    label_image = cv2.imread('reality_image/'+label_path)\n",
    "    label_list.append([label_image,label])"
   ]
  },
  {
   "cell_type": "code",
   "execution_count": 431,
   "metadata": {},
   "outputs": [
    {
     "data": {
      "text/plain": [
       "<matplotlib.image.AxesImage at 0x1b8bab152b0>"
      ]
     },
     "execution_count": 431,
     "metadata": {},
     "output_type": "execute_result"
    },
    {
     "data": {
      "image/png": "[encoded data removed]",
      "text/plain": [
       "<Figure size 432x288 with 1 Axes>"
      ]
     },
     "metadata": {
      "needs_background": "light"
     },
     "output_type": "display_data"
    }
   ],
   "source": [
    "#获取主要的图片\n",
    "show_image = label_list[0][0]\n",
    "plt.imshow(show_image)"
   ]
  },
  {
   "cell_type": "code",
   "execution_count": 432,
   "metadata": {},
   "outputs": [
    {
     "data": {
      "text/plain": [
       "<matplotlib.image.AxesImage at 0x1b8b12c1eb8>"
      ]
     },
     "execution_count": 432,
     "metadata": {},
     "output_type": "execute_result"
    },
    {
     "data": {
      "image/png": "[encoded data removed]",
      "text/plain": [
       "<Figure size 432x288 with 1 Axes>"
      ]
     },
     "metadata": {
      "needs_background": "light"
     },
     "output_type": "display_data"
    }
   ],
   "source": [
    "#灰度化\n",
    "greys_image = cv2.cvtColor(show_image,cv2.COLOR_BGR2GRAY)\n",
    "plt.imshow(greys_image)"
   ]
  },
  {
   "cell_type": "code",
   "execution_count": 433,
   "metadata": {
    "scrolled": true
   },
   "outputs": [
    {
     "data": {
      "text/plain": [
       "<matplotlib.image.AxesImage at 0x1b8c32f20f0>"
      ]
     },
     "execution_count": 433,
     "metadata": {},
     "output_type": "execute_result"
    },
    {
     "data": {
      "image/png": "[encoded data removed]",
      "text/plain": [
       "<Figure size 432x288 with 1 Axes>"
      ]
     },
     "metadata": {
      "needs_background": "light"
     },
     "output_type": "display_data"
    }
   ],
   "source": [
    "_,thre_image = cv2.threshold(greys_image, 50, 255,cv2.THRESH_BINARY_INV)\n",
    "element1 = cv2.getStructuringElement(cv2.MORPH_RECT, (10, 100))\n",
    "dilate_image = cv2.dilate(thre_image, element1, iterations = 1)\n",
    "plt.imshow(dilate_image,'Greys')"
   ]
  },
  {
   "cell_type": "code",
   "execution_count": 434,
   "metadata": {
    "scrolled": true
   },
   "outputs": [],
   "source": [
    "contours, hierarchy = cv2.findContours(dilate_image, cv2.RETR_TREE, cv2.CHAIN_APPROX_SIMPLE)"
   ]
  },
  {
   "cell_type": "code",
   "execution_count": 435,
   "metadata": {},
   "outputs": [],
   "source": [
    "def delet_repet(box_list):\n",
    "    def takeSecond(region):\n",
    "        return region[0]\n",
    "    box_list.sort(key=takeSecond)\n",
    "    '''avg_size = 0\n",
    "    for i in box_list:\n",
    "        _,_,w,h = i\n",
    "        avg_size+=w*h\n",
    "    avg_size/=len(box_list)\n",
    "    delet_box_list = []\n",
    "    for i in range(0,len(box_list)):\n",
    "        _,_,w,h = box_list[i]\n",
    "        if w*h<avg_size:\n",
    "            delet_box_list.append(i)\n",
    "    cout=0\n",
    "    for i in delet_box_list:\n",
    "        del box_list[i+cout]\n",
    "        cout+=-1'''\n",
    "    return box_list"
   ]
  },
  {
   "cell_type": "code",
   "execution_count": 436,
   "metadata": {
    "scrolled": false
   },
   "outputs": [
    {
     "name": "stdout",
     "output_type": "stream",
     "text": [
      "[[243, 53, 53, 111], [140, 22, 65, 188], [555, 17, 57, 168], [461, 8, 23, 191], [354, 6, 49, 206], [768, 0, 36, 212], [683, 0, 56, 190]]\n",
      "1 65 188\n",
      "2 53 111\n",
      "3 49 206\n",
      "4 23 191\n",
      "5 57 168\n",
      "6 56 190\n",
      "7 36 212\n"
     ]
    }
   ],
   "source": [
    "box_list = []\n",
    "for contour in contours:\n",
    "    x,y,w,h = cv2.boundingRect(contour)\n",
    "    if w*h<3000:\n",
    "        continue\n",
    "    w+=5\n",
    "    h+=5\n",
    "    box_list.append([x,y,w,h])\n",
    "    #cv2.rectangle(thre_image, (x,y), (x+w, y+h),(255,255,255),2)\n",
    "#cv2.imshow(\"findcontour\",thre_image)\n",
    "#cv2.waitKey()\n",
    "#cv2.destroyAllWindows()\n",
    "box_list = delet_repet(box_list)\n",
    "cout = 0\n",
    "shape = 28\n",
    "for box in box_list:\n",
    "    x,y,w,h = box\n",
    "    cout+=1\n",
    "    num_image = thre_image[y:y+h,x:x+w]\n",
    "    if w>h:\n",
    "        new_shape = int(shape*1.3)\n",
    "        newH = int(new_shape*(h/w))\n",
    "        newW = new_shape\n",
    "    else:\n",
    "        new_shape = int(shape*1.3)\n",
    "        newH = new_shape\n",
    "        newW = int(new_shape*(w/h))\n",
    "    print(cout,w,h)\n",
    "    num_image = cv2.blur(num_image,(10,10))#羽化\n",
    "    ret, num_image = cv2.threshold(num_image, 20, 255,cv2.THRESH_BINARY)\n",
    "    #num_image = Image.fromarray(num_image).resize((20,20))\n",
    "    num_image = Image.fromarray(num_image).resize((newW,newH))\n",
    "    huabu = Image.new('L',(shape,shape))\n",
    "    huabu.paste(num_image,(int((shape-newW)/2),int((shape-newH)/2)))"
   ]
  },
  {
   "cell_type": "code",
   "execution_count": 458,
   "metadata": {
    "scrolled": true
   },
   "outputs": [
    {
     "name": "stdout",
     "output_type": "stream",
     "text": [
      "97\n"
     ]
    }
   ],
   "source": [
    "coutt = 0\n",
    "for label_class in label_list:\n",
    "    show_image = label_class[0]\n",
    "    label = label_class[1].strip()\n",
    "    greys_image = cv2.cvtColor(show_image,cv2.COLOR_BGR2GRAY)\n",
    "    _,thre_image = cv2.threshold(greys_image, 50, 255,cv2.THRESH_BINARY_INV)\n",
    "    element1 = cv2.getStructuringElement(cv2.MORPH_RECT, (10, 100))\n",
    "    dilate_image = cv2.dilate(thre_image, element1, iterations = 1)\n",
    "    contours, hierarchy = cv2.findContours(dilate_image, cv2.RETR_TREE, cv2.CHAIN_APPROX_SIMPLE)\n",
    "    box_list = []\n",
    "    for contour in contours:\n",
    "        x,y,w,h = cv2.boundingRect(contour)\n",
    "        if w*h<3000:\n",
    "            continue\n",
    "        w+=5\n",
    "        h+=5\n",
    "        box_list.append([x,y,w,h])\n",
    "    box_list = delet_repet(box_list)\n",
    "    cout = 0\n",
    "    shape = 28\n",
    "    ceshi_image = []\n",
    "    for box in box_list:\n",
    "        x,y,w,h = box\n",
    "        cout+=1\n",
    "        num_image = thre_image[y:y+h,x:x+w]\n",
    "        if w>h:\n",
    "            new_shape = int(shape*1.3)\n",
    "            newH = int(new_shape*(h/w))\n",
    "            newW = new_shape\n",
    "        else:\n",
    "            new_shape = int(shape*1.3)\n",
    "            newH = new_shape\n",
    "            newW = int(new_shape*(w/h))\n",
    "        num_image = cv2.blur(num_image,(10,10))#羽化\n",
    "        ret, num_image = cv2.threshold(num_image, 20, 255,cv2.THRESH_BINARY)\n",
    "        #num_image = Image.fromarray(num_image).resize((20,20))\n",
    "        num_image = Image.fromarray(num_image).resize((newW,newH))\n",
    "        huabu = Image.new('L',(shape,shape))\n",
    "        huabu.paste(num_image,(int((shape-newW)/2),int((shape-newH)/2)))\n",
    "        ceshi_image.append(huabu)\n",
    "    math_map = ['0','1','2','3','4','5','6','7','8','9','^','+','-','*','/',')','(','=']\n",
    "    if len(ceshi_image) == len(label):\n",
    "        coutt+=1\n",
    "        for i in range(0,len(label)):\n",
    "            index = math_map.index(label[i])\n",
    "            path = 'data/'+str(index)+'/'\n",
    "            if os.path.exists(path) == False:\n",
    "                os.mkdir(path)\n",
    "            path_num = len(os.listdir(path))\n",
    "            cv2.imwrite(path+str(path_num)+'.jpg',np.array(ceshi_image[i]))\n",
    "print(coutt)"
   ]
  },
  {
   "cell_type": "code",
   "execution_count": null,
   "metadata": {},
   "outputs": [],
   "source": []
  }
 ],
 "metadata": {
  "kernelspec": {
   "display_name": "Python 3",
   "language": "python",
   "name": "python3"
  },
  "language_info": {
   "codemirror_mode": {
    "name": "ipython",
    "version": 3
   },
   "file_extension": ".py",
   "mimetype": "text/x-python",
   "name": "python",
   "nbconvert_exporter": "python",
   "pygments_lexer": "ipython3",
   "version": "3.6.5"
  }
 },
 "nbformat": 4,
 "nbformat_minor": 2
}
