{
 "cells": [
  {
   "cell_type": "code",
   "execution_count": null,
   "metadata": {},
   "outputs": [],
   "source": [
    "import cv2\n",
    "import numpy as np\n",
    "import matplotlib.pyplot as plt\n",
    "import PIL.Image as Image\n",
    "from PIL import ImageEnhance"
   ]
  },
  {
   "cell_type": "code",
   "execution_count": null,
   "metadata": {},
   "outputs": [],
   "source": [
    "image = np.array(Image.open('9.jpg'))\n",
    "GrayImage = cv2.cvtColor(image,cv2.COLOR_BGR2GRAY)\n",
    "enh_con = ImageEnhance.Contrast(Image.fromarray(GrayImage))\n",
    "image_contrasted = enh_con.enhance(3)\n",
    "enh_sha = ImageEnhance.Sharpness(image_contrasted)  # 增加锐度\n",
    "image_sharped = enh_sha.enhance(3.0)\n",
    "plt.imshow(image_sharped)"
   ]
  },
  {
   "cell_type": "code",
   "execution_count": 5,
   "metadata": {},
   "outputs": [
    {
     "data": {
      "image/png": "[encoded data removed]",
      "text/plain": [
       "<Figure size 432x288 with 1 Axes>"
      ]
     },
     "metadata": {
      "needs_background": "light"
     },
     "output_type": "display_data"
    }
   ],
   "source": [
    "def calcGrayHist(I):\n",
    "    # 计算灰度直方图\n",
    "    h, w = I.shape[:2]\n",
    "    I = np.array(Image.fromarray(GrayImage).resize((128,int(128*(h/w)))))\n",
    "    h, w = I.shape[:2]\n",
    "    grayHist = np.zeros([256], np.uint64)\n",
    "    for i in range(h):\n",
    "        for j in range(w):\n",
    "            grayHist[I[i][j]] += 1\n",
    "    return grayHist\n",
    "grayHist = calcGrayHist(GrayImage)\n",
    "x = np.arange(256)\n",
    "# 绘制灰度直方图\n",
    "plt.plot(x, grayHist, 'r', linewidth=2, c='black')\n",
    "plt.xlabel(\"gray Label\")\n",
    "plt.ylabel(\"number of pixels\")\n",
    "plt.show()"
   ]
  },
  {
   "cell_type": "code",
   "execution_count": 6,
   "metadata": {
    "scrolled": true
   },
   "outputs": [
    {
     "name": "stdout",
     "output_type": "stream",
     "text": [
      "121\n"
     ]
    },
    {
     "data": {
      "text/plain": [
       "'\\nx = np.arange(256)\\n# 绘制灰度直方图\\nplt.plot(x, grayHist, \\'r\\', linewidth=2, c=\\'black\\')\\nplt.xlabel(\"gray Label\")\\nplt.ylabel(\"number of pixels\")\\nplt.show()'"
      ]
     },
     "execution_count": 6,
     "metadata": {},
     "output_type": "execute_result"
    }
   ],
   "source": [
    "def calcGrayHist(I):\n",
    "    # 计算灰度直方图\n",
    "    h, w = I.shape[:2]\n",
    "    I = np.array(Image.fromarray(GrayImage).resize((128,int(128*(h/w)))))\n",
    "    h, w = I.shape[:2]\n",
    "    grayHist = np.zeros([256], np.uint64)\n",
    "    theHightPoint = [0,0]#1.直方图纵坐标，2.直方图横坐标\n",
    "    for i in range(h):\n",
    "        for j in range(w):\n",
    "            grayHist[I[i][j]] += 1\n",
    "            if grayHist[I[i][j]] > theHightPoint[0]:\n",
    "                theHightPoint[1] = I[i][j]\n",
    "                theHightPoint[0] = grayHist[I[i][j]]\n",
    "    theLowPoint = theHightPoint[1]\n",
    "    gradientNumber = 0\n",
    "    for i in range(1,int(theHightPoint[1]/2)):\n",
    "        index = theHightPoint[1]-i*2\n",
    "        newGradient = grayHist[theHightPoint[1]]-grayHist[index]\n",
    "        if newGradient > gradientNumber and grayHist[index]< 5:\n",
    "            theLowPoint = index\n",
    "            gradientNumber = newGradient\n",
    "            break\n",
    "    return theLowPoint\n",
    "grayHist = calcGrayHist(np.array(GrayImage))\n",
    "print(grayHist)\n",
    "'''\n",
    "x = np.arange(256)\n",
    "# 绘制灰度直方图\n",
    "plt.plot(x, grayHist, 'r', linewidth=2, c='black')\n",
    "plt.xlabel(\"gray Label\")\n",
    "plt.ylabel(\"number of pixels\")\n",
    "plt.show()'''"
   ]
  },
  {
   "cell_type": "code",
   "execution_count": 7,
   "metadata": {},
   "outputs": [],
   "source": [
    "GrayImage = np.array(GrayImage)\n",
    "grayHistNumber = grayHist-int(grayHist/7)\n",
    "ret,thresh1=cv2.threshold(GrayImage,grayHistNumber,255,cv2.THRESH_BINARY)\n",
    "thresh1 = cv2.medianBlur(thresh1,5)"
   ]
  },
  {
   "cell_type": "code",
   "execution_count": 8,
   "metadata": {},
   "outputs": [
    {
     "name": "stdout",
     "output_type": "stream",
     "text": [
      "104\n"
     ]
    }
   ],
   "source": [
    "print(grayHistNumber)"
   ]
  },
  {
   "cell_type": "code",
   "execution_count": null,
   "metadata": {},
   "outputs": [],
   "source": [
    "cv2.imshow('asfa',thresh1)\n",
    "cv2.waitKey(0)\n",
    "cv2.destroyWindow()"
   ]
  },
  {
   "cell_type": "code",
   "execution_count": null,
   "metadata": {
    "scrolled": false
   },
   "outputs": [],
   "source": [
    "#计算横向直方图\n",
    "def calcGrayHist(I,throhold):\n",
    "    # 计算灰度直方图\n",
    "    h, w = I.shape[:2]\n",
    "    I = cv2.bitwise_not(I)\n",
    "    plt.figure(1)\n",
    "    plt.imshow(I,'Greys')\n",
    "    print(I.shape)\n",
    "    grayHist = np.zeros([w], np.uint64)\n",
    "    grayHist = np.sum(I,axis=1)\n",
    "    for i in range(h):\n",
    "        grayHist[i] = grayHist[i]/255\n",
    "    x = np.arange(h)\n",
    "    total = 0\n",
    "    total_num = 0\n",
    "    for i in range(h):\n",
    "        if grayHist[i] > 0:\n",
    "            total_num+=1\n",
    "            total += grayHist[i]\n",
    "    total /= total_num\n",
    "    total /= 2\n",
    "    print(total)\n",
    "    plt.figure(2)\n",
    "    plt.plot(x, grayHist, 'r', linewidth=1, c='black')\n",
    "    plt.xlabel(\"Y axis projection gray Label\")\n",
    "    plt.ylabel(\"number of pixels\")\n",
    "    plt.show()\n",
    "    FormulaList = []\n",
    "    startLowPoint = 0\n",
    "    endLowPoint = 0\n",
    "    pointHeight = 0\n",
    "    traceFlag = False\n",
    "    for i in range(h):\n",
    "        if traceFlag == False:\n",
    "            if grayHist[i]>0:\n",
    "                traceFlag = True\n",
    "                startLowPoint = i\n",
    "        else:\n",
    "            if pointHeight < grayHist[i]:\n",
    "                pointHeight = grayHist[i]\n",
    "            if i+1 > len(grayHist)-1:\n",
    "                traceFlag = False\n",
    "                endLowPoint = i\n",
    "                continuePointNumber = 0\n",
    "                pointHeight = 0\n",
    "                continue\n",
    "            if grayHist[i]==0 and grayHist[i+1] == 0:\n",
    "                traceFlag = False\n",
    "                endLowPoint = i\n",
    "                if pointHeight > total:\n",
    "                    FormulaList.append([max(startLowPoint-2,0),min(endLowPoint+2,h-1)+2])\n",
    "                continuePointNumber = 0\n",
    "                pointHeight = 0\n",
    "    return FormulaList\n",
    "hei = calcGrayHist(thresh1,grayHist)\n",
    "print(hei)\n",
    "h, w = thresh1.shape[:2]\n",
    "label = 0\n",
    "temp_image = thresh1[hei[label][0]:hei[label][1],0:w]\n",
    "print(temp_image.shape)\n",
    "plt.figure(3)\n",
    "plt.imshow(temp_image,'Greys')\n",
    "# 绘制灰度直方图\n",
    "cv2.imshow('asfa',temp_image)\n",
    "cv2.waitKey(0)\n",
    "cv2.destroyWindow()"
   ]
  },
  {
   "cell_type": "code",
   "execution_count": 9,
   "metadata": {
    "scrolled": false
   },
   "outputs": [
    {
     "name": "stdout",
     "output_type": "stream",
     "text": [
      "(199, 1700)\n"
     ]
    },
    {
     "data": {
      "image/png": "[encoded data removed]",
      "text/plain": [
       "<Figure size 432x288 with 1 Axes>"
      ]
     },
     "metadata": {
      "needs_background": "light"
     },
     "output_type": "display_data"
    },
    {
     "data": {
      "image/png": "[encoded data removed]",
      "text/plain": [
       "<Figure size 432x288 with 1 Axes>"
      ]
     },
     "metadata": {
      "needs_background": "light"
     },
     "output_type": "display_data"
    },
    {
     "name": "stdout",
     "output_type": "stream",
     "text": [
      "total: 8.737391304347826\n"
     ]
    },
    {
     "data": {
      "image/png": "[encoded data removed]",
      "text/plain": [
       "<Figure size 432x288 with 9 Axes>"
      ]
     },
     "metadata": {
      "needs_background": "light"
     },
     "output_type": "display_data"
    }
   ],
   "source": [
    "#计算纵向直方图\n",
    "def calcGrayHist(I,throhold):\n",
    "    # 计算灰度直方图\n",
    "    h, w = I.shape[:2]\n",
    "    I = cv2.bitwise_not(I)\n",
    "    plt.figure(1)\n",
    "    plt.imshow(I,'Greys')\n",
    "    print(I.shape)\n",
    "    grayHist = np.zeros([h], np.uint64)\n",
    "    grayHist = np.sum(I,axis=0)\n",
    "    for i in range(w):\n",
    "        grayHist[i] = grayHist[i]/255\n",
    "    x = np.arange(w)\n",
    "    # 绘制灰度直方图\n",
    "    plt.figure(2)\n",
    "    plt.plot(x, grayHist, 'r', linewidth=1, c='black')\n",
    "    plt.xlabel(\"X axis projection gray Label\")\n",
    "    plt.ylabel(\"number of pixels\")\n",
    "    plt.show()\n",
    "    total = 0\n",
    "    total_num=0\n",
    "    for i in range(w):\n",
    "        if grayHist[i] > 0:\n",
    "            total_num+=1\n",
    "            total += grayHist[i]\n",
    "    total /= total_num\n",
    "    total /= 2\n",
    "    print(\"total:\",total)\n",
    "    FormulaList = []\n",
    "    startLowPoint = 0\n",
    "    endLowPoint = 0\n",
    "    pointHeight = 0\n",
    "    continuePointNumber = 0\n",
    "    traceFlag = False\n",
    "    for i in range(w):\n",
    "        if traceFlag == False:\n",
    "            if grayHist[i]>0:\n",
    "                continuePointNumber = 0\n",
    "                traceFlag = True\n",
    "                startLowPoint = i\n",
    "        else:\n",
    "            continuePointNumber+=1\n",
    "            if pointHeight < grayHist[i]:\n",
    "                pointHeight = grayHist[i]\n",
    "            if grayHist[i]<=0 and grayHist[i+1] <= 0:\n",
    "                traceFlag = False\n",
    "                endLowPoint = i\n",
    "                if (pointHeight + continuePointNumber) >= total:\n",
    "                    FormulaList.append([startLowPoint,endLowPoint])\n",
    "                continuePointNumber = 0\n",
    "                pointHeight = 0\n",
    "    return FormulaList\n",
    "\n",
    "def splitNumberForHorizen(L,grayHist):\n",
    "    FormulaList = calcGrayHist(L,grayHist)\n",
    "    singleNumber = []\n",
    "    num_len = np.array(FormulaList).shape[0]\n",
    "    y_axis = num_len/10+1\n",
    "    plt.figure()\n",
    "    for i in range(np.array(FormulaList).shape[0]):\n",
    "        h, w = L.shape[:2]\n",
    "        tm = L[0:h,FormulaList[i][0]:FormulaList[i][1]]\n",
    "        singleNumber.append(tm)\n",
    "        plt.subplot(y_axis,10,i+1)\n",
    "        plt.imshow(tm,'Greys')\n",
    "        plt.axis('off')\n",
    "    return singleNumber\n",
    "\n",
    "hei = splitNumberForHorizen(temp_image,grayHist)"
   ]
  },
  {
   "cell_type": "code",
   "execution_count": 11,
   "metadata": {
    "scrolled": false
   },
   "outputs": [
    {
     "data": {
      "image/png": "[encoded data removed]",
      "text/plain": [
       "<Figure size 432x288 with 9 Axes>"
      ]
     },
     "metadata": {
      "needs_background": "light"
     },
     "output_type": "display_data"
    }
   ],
   "source": [
    "def calcGrayHist(I):\n",
    "    # 计算灰度直方图\n",
    "    h, w = I.shape[:2]\n",
    "    I = cv2.bitwise_not(I)\n",
    "    grayHist = np.zeros([w], np.uint64)\n",
    "    grayHist = np.sum(I,axis=1)\n",
    "    for i in range(h):\n",
    "        grayHist[i] = grayHist[i]/255\n",
    "    total = 0\n",
    "    total_num = 0\n",
    "    for i in range(h):\n",
    "        if grayHist[i] > 0:\n",
    "            total_num+=1\n",
    "            total += grayHist[i]\n",
    "    total /= total_num\n",
    "    total /= 4\n",
    "    x = np.arange(h)\n",
    "#     plt.figure(2)\n",
    "#     plt.plot(x, grayHist, 'r', linewidth=1, c='black')\n",
    "#     plt.xlabel(\"gray Label\")\n",
    "#     plt.ylabel(\"number of pixels\")\n",
    "#     plt.show()\n",
    "    FormulaList = []\n",
    "    startLowPoint = 0\n",
    "    endLowPoint = 0\n",
    "    startTraceFlag = False\n",
    "    endTraceFlag = False\n",
    "    \n",
    "    \n",
    "#     for i in range(h):\n",
    "#         startIndex = i\n",
    "#         endIndex = h-i-1\n",
    "#         if startTraceFlag == False:\n",
    "#             if grayHist[startIndex] > total:\n",
    "#                 startTraceFlag = True\n",
    "#                 startLowPoint = startIndex\n",
    "#         if endTraceFlag == False:\n",
    "#             if grayHist[endIndex] > total:\n",
    "#                 endTraceFlag = True\n",
    "#                 endLowPoint = endIndex\n",
    "    return max(startLowPoint-1,0),min(endLowPoint+1,h-1)+1\n",
    "\n",
    "def calcFormulaHist(numberList):\n",
    "    singleNumber = []\n",
    "    cout = 5\n",
    "    plt.figure()\n",
    "    num_len = len(numberList)\n",
    "    y_axis = num_len/10+1\n",
    "    cout = 0\n",
    "    for nl in numberList:\n",
    "        h , w = np.array(nl).shape\n",
    "        sp,ep = calcGrayHist(nl)\n",
    "        ig = nl[sp:ep,0:w]\n",
    "        cout+=1\n",
    "        plt.subplot(y_axis,10,cout)\n",
    "        plt.imshow(ig,'Greys')\n",
    "        plt.axis('off')\n",
    "        singleNumber.append(ig)\n",
    "    return singleNumber\n",
    "didi = calcFormulaHist(hei)"
   ]
  },
  {
   "cell_type": "code",
   "execution_count": null,
   "metadata": {},
   "outputs": [],
   "source": []
  },
  {
   "cell_type": "code",
   "execution_count": 25,
   "metadata": {},
   "outputs": [
    {
     "data": {
      "text/plain": [
       "<matplotlib.image.AxesImage at 0x20f7fb08908>"
      ]
     },
     "execution_count": 25,
     "metadata": {},
     "output_type": "execute_result"
    },
    {
     "data": {
      "image/png": "[encoded data removed]",
      "text/plain": [
       "<Figure size 432x288 with 1 Axes>"
      ]
     },
     "metadata": {
      "needs_background": "light"
     },
     "output_type": "display_data"
    },
    {
     "data": {
      "image/png": "[encoded data removed]",
      "text/plain": [
       "<Figure size 432x288 with 1 Axes>"
      ]
     },
     "metadata": {
      "needs_background": "light"
     },
     "output_type": "display_data"
    }
   ],
   "source": [
    "import  cv2\n",
    "import tkinter\n",
    "import numpy as np\n",
    "from matplotlib import pyplot as plt\n",
    "\n",
    "#定义线性增强函数，<x1,x2>为增强区间\n",
    "def linear_threshold(Image,h,w,x1,x2,z2,z1 = 0,z3 = 0):\n",
    "\n",
    "    for i in range(0, h):\n",
    "        for j in range(0, w):\n",
    "            tmp = Image[i, j]\n",
    "            if tmp < x1:\n",
    "                Image[i, j] = z1\n",
    "            elif tmp >= x1 and tmp < x2:\n",
    "                Image[i, j] = z2\n",
    "            else:\n",
    "                Image[i, j] = z3\n",
    "\n",
    "    return Image\n",
    "\n",
    "#轮廓面积计算函数\n",
    "def areaCal(contour):\n",
    "\n",
    "    area = 0\n",
    "    for i in range(len(contour)):\n",
    "        area += cv2.contourArea(contour[i])\n",
    "\n",
    "    return area\n",
    "\n",
    "#读入图片\n",
    "img = hei[0]\n",
    "#设置掩模，将处理图像聚焦到夹层处\n",
    "mask = np.zeros(img.shape[:2],np.uint8)\n",
    "#中值滤波\n",
    "\n",
    "plt.figure()\n",
    "plt.imshow(img)\n",
    "plt.figure()\n",
    "plt.imshow(median1)"
   ]
  },
  {
   "cell_type": "code",
   "execution_count": null,
   "metadata": {},
   "outputs": [],
   "source": []
  }
 ],
 "metadata": {
  "kernelspec": {
   "display_name": "Python 3",
   "language": "python",
   "name": "python3"
  },
  "language_info": {
   "codemirror_mode": {
    "name": "ipython",
    "version": 3
   },
   "file_extension": ".py",
   "mimetype": "text/x-python",
   "name": "python",
   "nbconvert_exporter": "python",
   "pygments_lexer": "ipython3",
   "version": "3.5.2"
  }
 },
 "nbformat": 4,
 "nbformat_minor": 2
}
