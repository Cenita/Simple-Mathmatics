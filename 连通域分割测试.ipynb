{
 "cells": [
  {
   "cell_type": "code",
   "execution_count": 1,
   "metadata": {},
   "outputs": [],
   "source": [
    "import cv2\n",
    "import numpy as np\n",
    "import matplotlib.pyplot as plt\n",
    "import PIL.Image as Image\n",
    "from PIL import ImageEnhance"
   ]
  },
  {
   "cell_type": "code",
   "execution_count": 2,
   "metadata": {},
   "outputs": [
    {
     "data": {
      "text/plain": [
       "<matplotlib.image.AxesImage at 0x234b1c2cf28>"
      ]
     },
     "execution_count": 2,
     "metadata": {},
     "output_type": "execute_result"
    },
    {
     "data": {
      "image/png": "[encoded data removed]",
      "text/plain": [
       "<Figure size 432x288 with 1 Axes>"
      ]
     },
     "metadata": {
      "needs_background": "light"
     },
     "output_type": "display_data"
    }
   ],
   "source": [
    "image = cv2.imread('test_image/98.jpg')\n",
    "grey_image = cv2.cvtColor(image,cv2.COLOR_BGR2GRAY)\n",
    "_,grey_image = cv2.threshold(grey_image,127,255,cv2.THRESH_BINARY_INV)\n",
    "#grey_image = np.array(Image.fromarray(grey_image).resize((320,190)))\n",
    "plt.imshow(grey_image,'Greys')"
   ]
  },
  {
   "cell_type": "code",
   "execution_count": 3,
   "metadata": {},
   "outputs": [
    {
     "name": "stdout",
     "output_type": "stream",
     "text": [
      "(925, 1436)\n"
     ]
    }
   ],
   "source": [
    "print(grey_image.shape)"
   ]
  },
  {
   "cell_type": "code",
   "execution_count": 4,
   "metadata": {
    "scrolled": false
   },
   "outputs": [
    {
     "name": "stdout",
     "output_type": "stream",
     "text": [
      "26\n",
      "17\n"
     ]
    },
    {
     "data": {
      "text/plain": [
       "<matplotlib.image.AxesImage at 0x234c3547550>"
      ]
     },
     "execution_count": 4,
     "metadata": {},
     "output_type": "execute_result"
    },
    {
     "data": {
      "image/png": "[encoded data removed]",
      "text/plain": [
       "<Figure size 432x288 with 1 Axes>"
      ]
     },
     "metadata": {
      "needs_background": "light"
     },
     "output_type": "display_data"
    }
   ],
   "source": [
    "img,contours,hierarchy= cv2.findContours(grey_image, cv2.RETR_CCOMP, cv2.CHAIN_APPROX_NONE)\n",
    "x_lenth = grey_image.shape[0]\n",
    "y_lenth = grey_image.shape[1]\n",
    "temp_image = np.zeros((x_lenth,y_lenth))\n",
    "contour = contours\n",
    "temp_contours = [ [] * 1 for i in range(len(hierarchy[0]))]\n",
    "for index in range(len(hierarchy[0])):\n",
    "    father = hierarchy[0][index][3]\n",
    "    if len(contours[index]) < 50:\n",
    "        hierarchy[0][index][3] = 0\n",
    "    for cont1 in contours[index]:\n",
    "        temp_contours[index].append([cont1[0][0],cont1[0][1]])\n",
    "    if father!=-1:\n",
    "        for cont1 in contours[index]:\n",
    "            temp_contours[father].append([cont1[0][0],cont1[0][1]])\n",
    "        temp_contours[index] = []\n",
    "deal_contours = []\n",
    "for index in range(len(hierarchy[0])):\n",
    "    father = hierarchy[0][index][3]\n",
    "    if father == -1:\n",
    "        deal_contours.append(temp_contours[index])\n",
    "print(len(temp_contours))\n",
    "print(len(deal_contours))\n",
    "deal_contours = deal_contours\n",
    "# for index_1 in temp_contours:\n",
    "#     for index_2 in index_1:\n",
    "#         x = index_2[0]\n",
    "#         y = index_2[1]\n",
    "#         temp_image[y][x]=255\n",
    "for index_1 in deal_contours:\n",
    "    for index2 in index_1:\n",
    "        x = index2[0]\n",
    "        y = index2[1]\n",
    "        temp_image[y][x]=255\n",
    "plt.imshow(temp_image)\n",
    "# cv2.imshow('asfa',temp_image)\n",
    "# cv2.waitKey(0)\n",
    "# cv2.destroyWindow()"
   ]
  },
  {
   "cell_type": "code",
   "execution_count": null,
   "metadata": {},
   "outputs": [],
   "source": []
  },
  {
   "cell_type": "code",
   "execution_count": 5,
   "metadata": {},
   "outputs": [
    {
     "name": "stdout",
     "output_type": "stream",
     "text": [
      "1436 925\n"
     ]
    }
   ],
   "source": [
    "x_min = y_lenth\n",
    "y_min = x_lenth\n",
    "x_max = 0\n",
    "y_max = 0\n",
    "print(x_min,y_min)\n",
    "def pxCulate(com):\n",
    "    x_min = com[0][0]\n",
    "    y_min = com[0][1]\n",
    "    return x_min\n",
    "deal_contours.sort(key = pxCulate)\n",
    "this_contours = deal_contours[1]\n",
    "for con in this_contours:\n",
    "    x,y = con\n",
    "    if x < x_min:\n",
    "        x_min = x\n",
    "    if y < y_min:\n",
    "        y_min = y\n",
    "    if x > x_max:\n",
    "        x_max = x\n",
    "    if y > y_max:\n",
    "        y_max = y"
   ]
  },
  {
   "cell_type": "code",
   "execution_count": 6,
   "metadata": {
    "scrolled": true
   },
   "outputs": [],
   "source": [
    "after_contour = np.array(this_contours)-[x_min,y_min]"
   ]
  },
  {
   "cell_type": "code",
   "execution_count": 7,
   "metadata": {
    "scrolled": false
   },
   "outputs": [
    {
     "name": "stdout",
     "output_type": "stream",
     "text": [
      "[[0 0 0 ... 0 0 0]\n",
      " [0 0 0 ... 0 0 0]\n",
      " [0 0 0 ... 0 0 0]\n",
      " ...\n",
      " [0 0 0 ... 0 0 0]\n",
      " [0 0 0 ... 0 0 0]\n",
      " [0 0 0 ... 0 0 0]]\n",
      "189\n"
     ]
    },
    {
     "data": {
      "text/plain": [
       "<matplotlib.image.AxesImage at 0x234c360ff98>"
      ]
     },
     "execution_count": 7,
     "metadata": {},
     "output_type": "execute_result"
    },
    {
     "data": {
      "image/png": "[encoded data removed]",
      "text/plain": [
       "<Figure size 432x288 with 1 Axes>"
      ]
     },
     "metadata": {
      "needs_background": "light"
     },
     "output_type": "display_data"
    },
    {
     "data": {
      "image/png": "[encoded data removed]",
      "text/plain": [
       "<Figure size 432x288 with 1 Axes>"
      ]
     },
     "metadata": {
      "needs_background": "light"
     },
     "output_type": "display_data"
    },
    {
     "data": {
      "image/png": "[encoded data removed]",
      "text/plain": [
       "<Figure size 432x288 with 1 Axes>"
      ]
     },
     "metadata": {
      "needs_background": "light"
     },
     "output_type": "display_data"
    }
   ],
   "source": [
    "lable_image = np.array(Image.new('L',(x_max-x_min+10,y_max-y_min+10)))\n",
    "\n",
    "print(lable_image)\n",
    "for index in after_contour:\n",
    "    x = index[0]+5\n",
    "    y = index[1]+5\n",
    "    lable_image[y][x]=255\n",
    "plt.figure()\n",
    "plt.imshow(lable_image,'Greys')\n",
    "mask = np.zeros([lable_image.shape[0]+2, lable_image.shape[1]+2], np.uint8)\n",
    "copy_image = lable_image\n",
    "cv2.floodFill(copy_image, mask,(0,0), (99 , 0, 0), cv2.FLOODFILL_MASK_ONLY)\n",
    "plt.figure()\n",
    "plt.imshow(copy_image,'Greys')\n",
    "def find_point(read_image):\n",
    "    print(read_image.shape[0])\n",
    "    y = int(read_image.shape[0]/2)\n",
    "    light_flage = False\n",
    "    frist_falge = False\n",
    "    black_flage = False\n",
    "    find_x = -1\n",
    "    find_y = -1\n",
    "    for i in range(int(read_image.shape[1])):\n",
    "        if light_flage == False and read_image[y][i] == 255:\n",
    "            light_flage = True\n",
    "        elif light_flage == True and frist_falge == False and read_image[y][i] == 0:\n",
    "            black_flage = True\n",
    "            frist_falge = True\n",
    "            find_x = i\n",
    "            find_y = y\n",
    "        elif light_flage == True and black_flage == True and read_image[y][i] == 255:\n",
    "            return find_x,find_y\n",
    "    return 0,0\n",
    "cv2.floodFill(copy_image, mask,find_point(copy_image), (255 , 255, 255), cv2.FLOODFILL_MASK_ONLY)\n",
    "_,copy_image = cv2.threshold(copy_image,127,255,cv2.THRESH_BINARY)\n",
    "\n",
    "plt.figure()\n",
    "plt.imshow(copy_image,'Greys')"
   ]
  },
  {
   "cell_type": "code",
   "execution_count": 8,
   "metadata": {},
   "outputs": [
    {
     "name": "stdout",
     "output_type": "stream",
     "text": [
      "[0 0 0 0 0 0 0 0 0 0 0 0 0 0 0 0 0 0 0 0 0 0 0 0 0 0 0 0 0 0 0 0 0 0 0 0 0\n",
      " 0 0 0 0 0 0 0 0 0 0 0 0 0 0 0 0 0 0 0 0 0 0 0 0 0 0 0 0 0 0]\n"
     ]
    }
   ],
   "source": [
    "print(copy_image[0])"
   ]
  },
  {
   "cell_type": "code",
   "execution_count": 9,
   "metadata": {
    "scrolled": true
   },
   "outputs": [
    {
     "ename": "KeyboardInterrupt",
     "evalue": "",
     "output_type": "error",
     "traceback": [
      "\u001b[1;31m---------------------------------------------------------------------------\u001b[0m",
      "\u001b[1;31mKeyboardInterrupt\u001b[0m                         Traceback (most recent call last)",
      "\u001b[1;32m<ipython-input-9-b7921a8d0d01>\u001b[0m in \u001b[0;36m<module>\u001b[1;34m\u001b[0m\n\u001b[0;32m     42\u001b[0m     \u001b[1;32mfor\u001b[0m \u001b[0my\u001b[0m \u001b[1;32min\u001b[0m \u001b[0mrange\u001b[0m\u001b[1;33m(\u001b[0m\u001b[0my_lenth\u001b[0m\u001b[1;33m)\u001b[0m\u001b[1;33m:\u001b[0m\u001b[1;33m\u001b[0m\u001b[0m\n\u001b[0;32m     43\u001b[0m         \u001b[1;32mif\u001b[0m \u001b[0mgrey_image\u001b[0m\u001b[1;33m[\u001b[0m\u001b[0mx\u001b[0m\u001b[1;33m]\u001b[0m\u001b[1;33m[\u001b[0m\u001b[0my\u001b[0m\u001b[1;33m]\u001b[0m \u001b[1;33m==\u001b[0m \u001b[1;36m0\u001b[0m\u001b[1;33m:\u001b[0m\u001b[1;33m\u001b[0m\u001b[0m\n\u001b[1;32m---> 44\u001b[1;33m             \u001b[0mnew_label\u001b[0m\u001b[1;33m,\u001b[0m\u001b[0mis_new\u001b[0m \u001b[1;33m=\u001b[0m \u001b[0mfind_parent\u001b[0m\u001b[1;33m(\u001b[0m\u001b[0mx\u001b[0m\u001b[1;33m,\u001b[0m\u001b[0my\u001b[0m\u001b[1;33m,\u001b[0m\u001b[0mlabel\u001b[0m\u001b[1;33m)\u001b[0m\u001b[1;33m\u001b[0m\u001b[0m\n\u001b[0m\u001b[0;32m     45\u001b[0m             \u001b[0mtemp_image\u001b[0m\u001b[1;33m[\u001b[0m\u001b[0mx\u001b[0m\u001b[1;33m]\u001b[0m\u001b[1;33m[\u001b[0m\u001b[0my\u001b[0m\u001b[1;33m]\u001b[0m \u001b[1;33m=\u001b[0m \u001b[0mnew_label\u001b[0m\u001b[1;33m\u001b[0m\u001b[0m\n\u001b[0;32m     46\u001b[0m             \u001b[1;32mif\u001b[0m \u001b[0mis_new\u001b[0m \u001b[1;33m==\u001b[0m \u001b[1;32mTrue\u001b[0m\u001b[1;33m:\u001b[0m\u001b[1;33m\u001b[0m\u001b[0m\n",
      "\u001b[1;32m<ipython-input-9-b7921a8d0d01>\u001b[0m in \u001b[0;36mfind_parent\u001b[1;34m(pos_x, pos_y, label)\u001b[0m\n\u001b[0;32m     27\u001b[0m             \u001b[1;32mif\u001b[0m \u001b[0mtemp_image\u001b[0m\u001b[1;33m[\u001b[0m\u001b[0mnew_x\u001b[0m\u001b[1;33m]\u001b[0m\u001b[1;33m[\u001b[0m\u001b[0mnew_y\u001b[0m\u001b[1;33m]\u001b[0m \u001b[1;33m<\u001b[0m \u001b[0mlabel\u001b[0m \u001b[1;32mand\u001b[0m \u001b[0mtemp_image\u001b[0m\u001b[1;33m[\u001b[0m\u001b[0mnew_x\u001b[0m\u001b[1;33m]\u001b[0m\u001b[1;33m[\u001b[0m\u001b[0mnew_y\u001b[0m\u001b[1;33m]\u001b[0m \u001b[1;33m!=\u001b[0m \u001b[1;36m0\u001b[0m\u001b[1;33m:\u001b[0m\u001b[1;33m\u001b[0m\u001b[0m\n\u001b[0;32m     28\u001b[0m                 \u001b[0mfind_list\u001b[0m\u001b[1;33m.\u001b[0m\u001b[0mappend\u001b[0m\u001b[1;33m(\u001b[0m\u001b[0mtemp_image\u001b[0m\u001b[1;33m[\u001b[0m\u001b[0mnew_x\u001b[0m\u001b[1;33m]\u001b[0m\u001b[1;33m[\u001b[0m\u001b[0mnew_y\u001b[0m\u001b[1;33m]\u001b[0m\u001b[1;33m)\u001b[0m\u001b[1;33m\u001b[0m\u001b[0m\n\u001b[1;32m---> 29\u001b[1;33m                 \u001b[0mnew_label\u001b[0m \u001b[1;33m=\u001b[0m \u001b[0mtemp_image\u001b[0m\u001b[1;33m[\u001b[0m\u001b[0mnew_x\u001b[0m\u001b[1;33m]\u001b[0m\u001b[1;33m[\u001b[0m\u001b[0mnew_y\u001b[0m\u001b[1;33m]\u001b[0m\u001b[1;33m\u001b[0m\u001b[0m\n\u001b[0m\u001b[0;32m     30\u001b[0m     \u001b[1;32mglobal\u001b[0m \u001b[0mcout\u001b[0m\u001b[1;33m\u001b[0m\u001b[0m\n\u001b[0;32m     31\u001b[0m     \u001b[0mfind_list\u001b[0m\u001b[1;33m.\u001b[0m\u001b[0msort\u001b[0m\u001b[1;33m(\u001b[0m\u001b[1;33m)\u001b[0m\u001b[1;33m\u001b[0m\u001b[0m\n",
      "\u001b[1;31mKeyboardInterrupt\u001b[0m: "
     ]
    }
   ],
   "source": [
    "x_lenth = grey_image.shape[0]\n",
    "y_lenth = grey_image.shape[1]\n",
    "temp_image = np.zeros((x_lenth,y_lenth))\n",
    "label_list = []\n",
    "\n",
    "def find_label_list_index(key):\n",
    "    label_index = -1\n",
    "    for i in label_list:\n",
    "        label_index+=1\n",
    "        for j in i:\n",
    "            if j==key:\n",
    "                return label_index\n",
    "    return -1\n",
    "cout = 0\n",
    "label = 1\n",
    "def find_parent(pos_x,pos_y,label):\n",
    "    direction = [[0,1],[0,-1],[-1,0],[1,0],[-1,-1],[1,1],[1,-1],[-1,1]]\n",
    "    new_label = label\n",
    "    is_new = True\n",
    "    find_list = [label]\n",
    "    for dr in direction:\n",
    "        new_x = pos_x + dr[0]\n",
    "        new_y = pos_y + dr[1]\n",
    "        if new_x >= 0 and new_y >=0 and new_x < x_lenth and new_y < y_lenth:\n",
    "            if temp_image[new_x][new_y] != 0:\n",
    "                is_new = False\n",
    "            if temp_image[new_x][new_y] < label and temp_image[new_x][new_y] != 0:\n",
    "                find_list.append(temp_image[new_x][new_y])\n",
    "                new_label = temp_image[new_x][new_y]\n",
    "    global cout\n",
    "    find_list.sort()\n",
    "    if is_new == True:\n",
    "        find_index = find_label_list_index(new_label)\n",
    "        if find_index == -1:\n",
    "            label_list.append([new_label])\n",
    "    if is_new == False:\n",
    "        find_index = find_label_list_index(new_label)\n",
    "        if find_label_list_index(new_label) == -1:\n",
    "            label_list[find_index].append(new_label)\n",
    "    return new_label,is_new\n",
    "for x in range(x_lenth):\n",
    "    for y in range(y_lenth):\n",
    "        if grey_image[x][y] == 0:\n",
    "            new_label,is_new = find_parent(x,y,label)\n",
    "            temp_image[x][y] = new_label\n",
    "            if is_new == True:\n",
    "                label+=1\n",
    "for x in range(x_lenth):\n",
    "    for y in range(y_lenth):\n",
    "        if temp_image[x][y]!=0:\n",
    "            item_label = find_label_list_index(temp_image[x][y])+1\n",
    "            temp_image[x][y] = item_label\n",
    "            cout+=1"
   ]
  },
  {
   "cell_type": "code",
   "execution_count": null,
   "metadata": {
    "scrolled": true
   },
   "outputs": [],
   "source": [
    "label_list"
   ]
  },
  {
   "cell_type": "code",
   "execution_count": null,
   "metadata": {},
   "outputs": [],
   "source": [
    "plt.imshow(temp_image,'Greys')"
   ]
  },
  {
   "cell_type": "code",
   "execution_count": null,
   "metadata": {
    "scrolled": false
   },
   "outputs": [],
   "source": []
  },
  {
   "cell_type": "code",
   "execution_count": null,
   "metadata": {},
   "outputs": [],
   "source": []
  }
 ],
 "metadata": {
  "kernelspec": {
   "display_name": "Python 3",
   "language": "python",
   "name": "python3"
  },
  "language_info": {
   "codemirror_mode": {
    "name": "ipython",
    "version": 3
   },
   "file_extension": ".py",
   "mimetype": "text/x-python",
   "name": "python",
   "nbconvert_exporter": "python",
   "pygments_lexer": "ipython3",
   "version": "3.6.5"
  }
 },
 "nbformat": 4,
 "nbformat_minor": 2
}
