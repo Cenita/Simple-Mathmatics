{
 "cells": [
  {
   "cell_type": "code",
   "execution_count": 1,
   "metadata": {},
   "outputs": [],
   "source": [
    "import cv2\n",
    "import numpy as np\n",
    "import PIL.Image as Image\n",
    "import matplotlib.pyplot as plt\n",
    "import os"
   ]
  },
  {
   "cell_type": "code",
   "execution_count": 2,
   "metadata": {},
   "outputs": [],
   "source": [
    "def image_to_csv(class_index,image_path):\n",
    "    img = cv2.imread(image_path)\n",
    "    img = cv2.cvtColor(img,cv2.COLOR_BGR2GRAY)\n",
    "    img = np.array(img)\n",
    "    img = img.reshape(-1)\n",
    "    result = str(class_index)\n",
    "    for index in img:\n",
    "        result += \",\" + str(index)\n",
    "    return result"
   ]
  },
  {
   "cell_type": "code",
   "execution_count": 3,
   "metadata": {},
   "outputs": [],
   "source": [
    "def protect_train_test_csv():\n",
    "    main_path = 'data/'\n",
    "    number_list = os.listdir(main_path)\n",
    "    for class_index in number_list:\n",
    "        class_path = main_path + class_index + \"/\"\n",
    "        class_list = os.listdir(class_path)\n",
    "        class_total_num = len(class_list)\n",
    "        train_num = int(class_total_num * 0.8)\n",
    "        train_list = class_list\n",
    "        for index in train_list:\n",
    "            image_path = class_path + index\n",
    "            result = image_to_csv(class_index,image_path)\n",
    "            with open('test_list.txt','a') as f:\n",
    "                f.write(result+'\\n')"
   ]
  },
  {
   "cell_type": "code",
   "execution_count": 4,
   "metadata": {},
   "outputs": [],
   "source": [
    "protect_train_test_csv()"
   ]
  },
  {
   "cell_type": "code",
   "execution_count": 5,
   "metadata": {
    "scrolled": true
   },
   "outputs": [
    {
     "name": "stdout",
     "output_type": "stream",
     "text": [
      "0\n"
     ]
    },
    {
     "data": {
      "image/png": "[encoded data removed]",
      "text/plain": [
       "<Figure size 432x288 with 1 Axes>"
      ]
     },
     "metadata": {
      "needs_background": "light"
     },
     "output_type": "display_data"
    }
   ],
   "source": [
    "test_file = open('test_list.txt').readlines()[0].split(',')\n",
    "label = test_file[0]\n",
    "test_image = np.array(test_file[1:]).reshape(28,28).astype('float32')\n",
    "plt.imshow(test_image)\n",
    "print(label)"
   ]
  },
  {
   "cell_type": "code",
   "execution_count": null,
   "metadata": {},
   "outputs": [],
   "source": []
  }
 ],
 "metadata": {
  "kernelspec": {
   "display_name": "Python 3",
   "language": "python",
   "name": "python3"
  },
  "language_info": {
   "codemirror_mode": {
    "name": "ipython",
    "version": 3
   },
   "file_extension": ".py",
   "mimetype": "text/x-python",
   "name": "python",
   "nbconvert_exporter": "python",
   "pygments_lexer": "ipython3",
   "version": "3.6.5"
  }
 },
 "nbformat": 4,
 "nbformat_minor": 2
}
