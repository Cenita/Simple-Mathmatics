{
 "cells": [
  {
   "cell_type": "code",
   "execution_count": 1,
   "metadata": {},
   "outputs": [],
   "source": [
    "import cv2\n",
    "import numpy as np\n",
    "import matplotlib.pyplot as plt\n",
    "import PIL.Image as Image\n",
    "from PIL import ImageEnhance\n",
    "from htgCrap import htgCrap\n",
    "import cv2\n",
    "import matplotlib.pyplot as plt\n",
    "import os\n",
    "import paddle as paddle\n",
    "import paddle.fluid as fluid\n",
    "import PIL.Image as Image\n",
    "import random\n",
    "import numpy as np\n",
    "import time\n",
    "from htgCrap import htgCrap\n",
    "from PIL import ImageEnhance"
   ]
  },
  {
   "cell_type": "code",
   "execution_count": 22,
   "metadata": {},
   "outputs": [],
   "source": [
    "image_path = 'data/English/Hnd/Img/Sample049/'\n",
    "save_path = 'data/temp/tmp17/'\n",
    "image_list = os.listdir(image_path)\n",
    "for imp in image_list:\n",
    "    imp = image_path+imp\n",
    "    htgTool = htgCrap(np.array(Image.open(imp)))\n",
    "    image = np.array(htgTool.crapNumber(64)).reshape(64,64)\n",
    "    image_father = cv2.bitwise_not(image)\n",
    "    dilate_list = [1,3,5,7]\n",
    "    if not os.path.exists(save_path):\n",
    "        os.makedirs(save_path)\n",
    "    for dl in dilate_list:\n",
    "        element1 = cv2.getStructuringElement(cv2.MORPH_RECT, (dl, dl))\n",
    "        imc = cv2.dilate(image_father, element1, iterations = 1)\n",
    "        imc = cv2.bitwise_not(imc)\n",
    "        cv2.imwrite(save_path+'t'+str(len(os.listdir(save_path)))+'.jpg',imc)"
   ]
  },
  {
   "cell_type": "code",
   "execution_count": null,
   "metadata": {},
   "outputs": [],
   "source": []
  },
  {
   "cell_type": "code",
   "execution_count": 23,
   "metadata": {},
   "outputs": [],
   "source": [
    "def show_position_image(path,pz_level,pz_height,area_size=1000):\n",
    "    img = cv2.imread(path)\n",
    "    gray = cv2.cvtColor(img, cv2.COLOR_BGR2GRAY)\n",
    "    sobel1 = cv2.Sobel(gray,cv2.CV_8U, 0, 1, ksize=1)\n",
    "    sobel2 = cv2.Sobel(gray,cv2.CV_8U, 1, 0, ksize=1)\n",
    "    sobel = sobel1+sobel2\n",
    "    ret, binary = cv2.threshold(sobel, 0, 255, cv2.THRESH_OTSU+cv2.THRESH_BINARY)\n",
    "    element1 = cv2.getStructuringElement(cv2.MORPH_RECT, (pz_level, pz_height))\n",
    "    dilation = cv2.dilate(binary, element1, iterations = 1)\n",
    "    region = []\n",
    "    _,contours, hierarchy = cv2.findContours(dilation, cv2.RETR_TREE, cv2.CHAIN_APPROX_SIMPLE)\n",
    "    pinjun = []\n",
    "    for i in range(len(contours)):\n",
    "        cnt = contours[i]\n",
    "        area = cv2.contourArea(cnt)\n",
    "        if area<area_size:\n",
    "            continue\n",
    "        rect = cv2.boundingRect(cnt)\n",
    "        x = int(rect[0])\n",
    "        y = int(rect[1])\n",
    "        length = int(rect[2])\n",
    "        height = int(rect[3])\n",
    "        box = [y,y+height,x,x+length]\n",
    "        region.append(box)\n",
    "    cv2.drawContours(img, contours, -1, (0, 255, 0), 2)\n",
    "    cv2.namedWindow(\"img\", cv2.WINDOW_NORMAL)\n",
    "    cv2.imshow(\"img\", img)\n",
    "    cv2.waitKey(0)\n",
    "    cv2.destroyAllWindows()\n",
    "\n",
    "def del_fuhao(path,newPath,pz_level,pz_height,area_size=1000,dl=1):\n",
    "    img = cv2.imread(path)\n",
    "    gray = cv2.cvtColor(img, cv2.COLOR_BGR2GRAY)\n",
    "    sobel1 = cv2.Sobel(gray,cv2.CV_8U, 0, 1, ksize=1)\n",
    "    sobel2 = cv2.Sobel(gray,cv2.CV_8U, 1, 0, ksize=1)\n",
    "    sobel = sobel1+sobel2\n",
    "    ret, binary = cv2.threshold(sobel, 0, 255, cv2.THRESH_OTSU+cv2.THRESH_BINARY)\n",
    "    element1 = cv2.getStructuringElement(cv2.MORPH_RECT, (pz_level, pz_height))\n",
    "    dilation = cv2.dilate(binary, element1, iterations = 1)\n",
    "    region = []\n",
    "    _,contours, hierarchy = cv2.findContours(dilation, cv2.RETR_TREE, cv2.CHAIN_APPROX_SIMPLE)\n",
    "    if not os.path.exists(newPath):\n",
    "        os.makedirs(newPath)\n",
    "    for i in range(len(contours)):\n",
    "        cnt = contours[i]\n",
    "        area = cv2.contourArea(cnt)\n",
    "        if area<area_size:\n",
    "            continue\n",
    "        rect = cv2.boundingRect(cnt)\n",
    "        x = int(rect[0])\n",
    "        y = int(rect[1])\n",
    "        length = int(rect[2])\n",
    "        height = int(rect[3])\n",
    "        box = [y,y+height,x,x+length]\n",
    "        region.append(box)\n",
    "    for box in region:\n",
    "        tmp_image = img[box[0]:box[1],box[2]:box[3]]\n",
    "        gray = cv2.cvtColor(tmp_image, cv2.COLOR_BGR2GRAY)\n",
    "        ret, binary = cv2.threshold(tmp_image, 120, 255,cv2.THRESH_BINARY_INV)\n",
    "        if os.path.exists(newPath) == False:\n",
    "            os.makedirs(newPath)\n",
    "        oslen = os.listdir(newPath)\n",
    "        maxNumber = len(os.listdir(newPath))\n",
    "        binary = cv2.resize(binary,(64,64))\n",
    "        element1 = cv2.getStructuringElement(cv2.MORPH_RECT, (dl,dl ))\n",
    "        imc = cv2.erode(binary, element1, iterations = 1)\n",
    "        cv2.imwrite(newPath+'t'+str(maxNumber)+'.jpg',imc)"
   ]
  },
  {
   "cell_type": "code",
   "execution_count": 25,
   "metadata": {},
   "outputs": [],
   "source": [
    "image_path = 'data/English/Hnd/Img/Sample015/'\n",
    "save_number = 8\n",
    "for image_name in os.listdir(image_path):\n",
    "    ip = image_path+image_name\n",
    "    save_path = 'data/temp/tmp'+str(save_number)+'/'\n",
    "    dllist = [1,3,5,8]\n",
    "    for dli in dllist:\n",
    "        del_fuhao(ip,save_path,100,100,dl=dli)"
   ]
  },
  {
   "cell_type": "code",
   "execution_count": 24,
   "metadata": {},
   "outputs": [],
   "source": [
    "image_path = 'images/wjf/4.jpg'\n",
    "save_number = 15\n",
    "save_path = 'data/temp/'+str(save_number)+'/'\n",
    "del_fuhao(image_path,save_path,30,40)"
   ]
  },
  {
   "cell_type": "code",
   "execution_count": 73,
   "metadata": {},
   "outputs": [],
   "source": [
    "##更改名字\n",
    "image_path = 'data/temp/4/'\n",
    "imlist = os.listdir(image_path)\n",
    "cout=0\n",
    "for imname in imlist:\n",
    "    imp = image_path+imname\n",
    "    os.rename(imp,image_path+'re'+str(cout)+'.jpg')\n",
    "    cout+=1"
   ]
  },
  {
   "cell_type": "code",
   "execution_count": 6,
   "metadata": {},
   "outputs": [],
   "source": [
    "def getDataArray(path):\n",
    "    class_list = os.listdir(path)\n",
    "    total_list = []\n",
    "    for clas in range(len(class_list)):\n",
    "        class_path = path+str(clas)+'/'\n",
    "        num_list = []\n",
    "        for num in os.listdir(class_path):\n",
    "            num_path = class_path+num\n",
    "            image = np.array(Image.open(num_path).resize((64,64)).convert('L'))\n",
    "            _, image = cv2.threshold(image, 10, 255,cv2.THRESH_BINARY)\n",
    "            num_list.append(image)\n",
    "        total_list.append(num_list)\n",
    "    return np.array(total_list)\n",
    "\n",
    "def createTrainTestData(total_data):\n",
    "    total_len = len(total_data)\n",
    "    train_list = [[]*1 for i in range(total_len)]\n",
    "    test_list = [[]*1 for i in range(total_len)]\n",
    "    for class_index in range(total_len):\n",
    "        class_data = total_data[class_index]\n",
    "        random.shuffle(class_data)\n",
    "        class_len = len(class_data)\n",
    "        train_num = int(class_len*0.8)\n",
    "        train_list[class_index]=class_data[:train_num]\n",
    "        test_list[class_index]=class_data[train_num:]\n",
    "    return np.array(train_list),np.array(test_list)"
   ]
  },
  {
   "cell_type": "code",
   "execution_count": 10,
   "metadata": {},
   "outputs": [],
   "source": [
    "data_array = getDataArray('data/Unk_yange/')"
   ]
  },
  {
   "cell_type": "code",
   "execution_count": 11,
   "metadata": {},
   "outputs": [],
   "source": [
    "train_list,test_list = createTrainTestData(data_array)"
   ]
  },
  {
   "cell_type": "code",
   "execution_count": 12,
   "metadata": {},
   "outputs": [],
   "source": [
    "np.save('data/Unk_y_train_list',train_list)\n",
    "np.save('data/Unk_y_test_list',test_list)"
   ]
  },
  {
   "cell_type": "code",
   "execution_count": 12,
   "metadata": {},
   "outputs": [
    {
     "data": {
      "text/plain": [
       "<matplotlib.image.AxesImage at 0x18ec46cc518>"
      ]
     },
     "execution_count": 12,
     "metadata": {},
     "output_type": "execute_result"
    },
    {
     "data": {
      "image/png": "[encoded data removed]",
      "text/plain": [
       "<Figure size 432x288 with 1 Axes>"
      ]
     },
     "metadata": {
      "needs_background": "light"
     },
     "output_type": "display_data"
    }
   ],
   "source": [
    "plt.imshow(train_list[18][0])"
   ]
  },
  {
   "cell_type": "code",
   "execution_count": null,
   "metadata": {},
   "outputs": [],
   "source": []
  }
 ],
 "metadata": {
  "kernelspec": {
   "display_name": "Python 3",
   "language": "python",
   "name": "python3"
  },
  "language_info": {
   "codemirror_mode": {
    "name": "ipython",
    "version": 3
   },
   "file_extension": ".py",
   "mimetype": "text/x-python",
   "name": "python",
   "nbconvert_exporter": "python",
   "pygments_lexer": "ipython3",
   "version": "3.6.5"
  }
 },
 "nbformat": 4,
 "nbformat_minor": 2
}
