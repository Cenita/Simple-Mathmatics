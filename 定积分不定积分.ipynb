{
 "cells": [
  {
   "cell_type": "code",
   "execution_count": 54,
   "metadata": {},
   "outputs": [
    {
     "name": "stdout",
     "output_type": "stream",
     "text": [
      "# 0.9999188\n",
      "0 0.9999534\n",
      "1 0.9975725\n",
      "- 0.9999901\n",
      "6 0.9994413\n",
      "3 0.99993706\n",
      "* 0.99943656\n",
      "3 0.9624535\n",
      "- 0.99999857\n",
      "5 0.96571743\n",
      "* 0.9999975\n",
      "+ 0.999984\n",
      "- 0.5258267\n",
      "2 0.9998099\n",
      "d 0.9998716\n",
      "* 0.99999964\n",
      "- 0.99999034\n",
      "- 0.9999989\n",
      "['#', [['1', [], [], [], [365, 104, 29, 109]]], [], [['0', [], [], [], [323, 350, 51, 82]]], [190, 121, 131, 320]]\n",
      "['-', [['3', [], [], [], [510, 51, 53, 127]]], [], [['6', [], [], [], [507, 264, 51, 148]]], [468, 223, 143, 26]]\n",
      "['*', [['3', [], [], [], [748, 72, 38, 118]]], [], [], [630, 161, 90, 181]]\n",
      "['-', [], [], [], [807, 225, 87, 25]]\n",
      "['5', [], [], [], [913, 123, 116, 197]]\n",
      "['*', [], [], [], [1057, 156, 95, 169]]\n",
      "['+', [], [], [], [1214, 164, 89, 147]]\n",
      "['-', [], [], [], [1340, 180, 22, 16]]\n",
      "['2', [], [], [], [1360, 152, 89, 146]]\n",
      "['d', [], [], [], [1474, 43, 145, 279]]\n",
      "['*', [], [], [], [1644, 112, 136, 216]]\n",
      "['-', [], [], [['-', [], [], [], [1851, 204, 92, 24]]], [1831, 164, 120, 31]]\n",
      "#^(1)~(0)((3)/(6))x^(3)-5x+-2dx=\n"
     ]
    }
   ],
   "source": [
    "import inferProgram\n",
    "import sympy\n",
    "import re\n",
    "result = inferProgram.Integral(150).infer_image('test_image/组委会手写数据集/新建文件夹/定积分12.jpg')[1]\n",
    "print(result)"
   ]
  },
  {
   "cell_type": "code",
   "execution_count": 26,
   "metadata": {},
   "outputs": [],
   "source": [
    "x = sympy.Symbol('x')"
   ]
  },
  {
   "cell_type": "code",
   "execution_count": 72,
   "metadata": {},
   "outputs": [
    {
     "name": "stdout",
     "output_type": "stream",
     "text": [
      "1\n",
      "0\n",
      "((3)/(6))x^(3)-5x+2\n"
     ]
    }
   ],
   "source": [
    "result = '#^(1)~(0)((3)/(6))x^(3)-5x+2dx='\n",
    "obj = re.search(r'#\\^\\((.*?)\\)\\~\\((.*?)\\)(.*)dx',result)\n",
    "print(obj.group(1))\n",
    "print(obj.group(2))\n",
    "print(obj.group(3))\n",
    "try:\n",
    "except Exception:"
   ]
  },
  {
   "cell_type": "code",
   "execution_count": 73,
   "metadata": {},
   "outputs": [],
   "source": [
    "y = inferProgram.ToolBar.getDerivative().tranfromText(obj.group(3))\n",
    "y = y.replace('#','').replace('dx=','').replace('dx','').replace('e','sympy.E')"
   ]
  },
  {
   "cell_type": "code",
   "execution_count": 74,
   "metadata": {},
   "outputs": [],
   "source": [
    "result = sympy.integrate(y,(x,obj.group(2),obj.group(1)))"
   ]
  },
  {
   "cell_type": "code",
   "execution_count": 75,
   "metadata": {},
   "outputs": [
    {
     "data": {
      "text/plain": [
       "'-3/8'"
      ]
     },
     "execution_count": 75,
     "metadata": {},
     "output_type": "execute_result"
    }
   ],
   "source": [
    "str(sympy.simplify(result)).replace('**','^').replace('exp','e^').replace('log','ln')"
   ]
  },
  {
   "cell_type": "code",
   "execution_count": null,
   "metadata": {},
   "outputs": [],
   "source": []
  }
 ],
 "metadata": {
  "kernelspec": {
   "display_name": "Python 3",
   "language": "python",
   "name": "python3"
  },
  "language_info": {
   "codemirror_mode": {
    "name": "ipython",
    "version": 3
   },
   "file_extension": ".py",
   "mimetype": "text/x-python",
   "name": "python",
   "nbconvert_exporter": "python",
   "pygments_lexer": "ipython3",
   "version": "3.6.5"
  }
 },
 "nbformat": 4,
 "nbformat_minor": 2
}
