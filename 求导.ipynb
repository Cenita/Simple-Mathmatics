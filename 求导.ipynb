{
 "cells": [
  {
   "cell_type": "code",
   "execution_count": 2,
   "metadata": {},
   "outputs": [
    {
     "name": "stdout",
     "output_type": "stream",
     "text": [
      "y 0.9999969\n",
      "- 0.99996996\n",
      "- 0.9999758\n",
      "( 0.999974\n",
      "2 0.99976534\n",
      "* 0.9825654\n",
      "2 0.99954176\n",
      "- 0.99998105\n",
      "3 0.99999297\n",
      ") 0.99986255\n",
      "( 0.99993443\n",
      "* 0.99964726\n",
      "2 0.99980444\n",
      "- 0.99999547\n",
      "4 0.99978286\n",
      ") 0.9987054\n",
      "['y', [], [], [], [115, 2, 81, 181]]\n",
      "['-', [], [], [['-', [], [], [], [251, 90, 79, 17]]], [250, 51, 69, 20]]\n",
      "['(', [], [], [], [443, 27, 47, 151]]\n",
      "['2', [], [], [], [562, 55, 61, 76]]\n",
      "['*', [['2', [], [], [], [796, 5, 31, 44]]], [], [], [665, 45, 91, 107]]\n",
      "['-', [], [], [], [852, 87, 77, 19]]\n",
      "['3', [], [], [], [956, 44, 87, 112]]\n",
      "[')', [], [], [], [1071, 25, 104, 209]]\n",
      "['(', [], [], [], [1295, 34, 36, 152]]\n",
      "['*', [['2', [], [], [], [1508, 20, 36, 47]]], [], [], [1373, 56, 95, 107]]\n",
      "['-', [], [], [], [1610, 93, 61, 13]]\n",
      "['4', [], [], [], [1742, 36, 104, 129]]\n",
      "[')', [], [], [], [1860, 29, 93, 175]]\n"
     ]
    }
   ],
   "source": [
    "from sympy import *\n",
    "import inferProgram\n",
    "aaa = inferProgram.Unk(65)\n",
    "result = aaa.infer_image('test_image/组委会手写数据集/新建文件夹/求导15.jpg')[1][0]"
   ]
  },
  {
   "cell_type": "code",
   "execution_count": 12,
   "metadata": {},
   "outputs": [],
   "source": [
    "def tranfromText(re):\n",
    "    texta = str(re)\n",
    "    texta = texta.replace(')(',')*(').replace(')x',')*x')\n",
    "    for i in range(10):\n",
    "        texta = texta.replace(str(i)+'x',str(i)+'*x')\n",
    "    texta = texta.replace('^','**').replace('y=','')\n",
    "    return texta"
   ]
  },
  {
   "cell_type": "code",
   "execution_count": 13,
   "metadata": {},
   "outputs": [],
   "source": [
    "result = tranfromText(result)"
   ]
  },
  {
   "cell_type": "code",
   "execution_count": 14,
   "metadata": {},
   "outputs": [],
   "source": [
    "x = symbols(\"x\")"
   ]
  },
  {
   "cell_type": "code",
   "execution_count": 15,
   "metadata": {},
   "outputs": [],
   "source": [
    "y = eval(result)"
   ]
  },
  {
   "cell_type": "code",
   "execution_count": 16,
   "metadata": {},
   "outputs": [],
   "source": [
    "dify = diff(y,x)"
   ]
  },
  {
   "cell_type": "code",
   "execution_count": 17,
   "metadata": {},
   "outputs": [
    {
     "name": "stdout",
     "output_type": "stream",
     "text": [
      "8*x^3 - 22*x\n"
     ]
    }
   ],
   "source": [
    "print()"
   ]
  },
  {
   "cell_type": "code",
   "execution_count": null,
   "metadata": {},
   "outputs": [],
   "source": []
  }
 ],
 "metadata": {
  "kernelspec": {
   "display_name": "Python 3",
   "language": "python",
   "name": "python3"
  },
  "language_info": {
   "codemirror_mode": {
    "name": "ipython",
    "version": 3
   },
   "file_extension": ".py",
   "mimetype": "text/x-python",
   "name": "python",
   "nbconvert_exporter": "python",
   "pygments_lexer": "ipython3",
   "version": "3.6.5"
  }
 },
 "nbformat": 4,
 "nbformat_minor": 2
}
